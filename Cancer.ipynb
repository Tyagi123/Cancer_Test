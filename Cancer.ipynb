{
 "cells": [
  {
   "cell_type": "code",
   "execution_count": 65,
   "id": "9972c51f-93ae-4f3f-a8df-7f97c49a8582",
   "metadata": {},
   "outputs": [],
   "source": [
    "from tensorflow.keras import datasets, layers, models\n",
    "import matplotlib.pyplot as plt\n",
    "from keras.preprocessing import image\n",
    "import tensorflow as tf\n",
    "import pandas as pd\n",
    "import numpy as np\n",
    "from pathlib import Path\n",
    "from tensorflow.keras.preprocessing.image import ImageDataGenerator\n",
    "import matplotlib.pyplot as plt\n",
    "from tensorflow.keras import datasets, layers, models\n",
    "from sklearn.model_selection import train_test_split\n",
    "from keras.preprocessing import image\n",
    "from PIL import Image\n",
    "import os\n",
    "import PIL"
   ]
  },
  {
   "cell_type": "code",
   "execution_count": 66,
   "id": "0ad5b68f-951a-4e70-a885-c1163ae366d0",
   "metadata": {},
   "outputs": [],
   "source": [
    "TEST_IMG_DIR = \"/Users/gauravkumar/Downloads/Data/isic-2024-challenge/train-image/image/\"\n",
    "TEST_CSV_DIR = \"/Users/gauravkumar/Downloads/Data/isic-2024-challenge/train-metadata.csv\"\n",
    "modelSavePath = '/Users/gauravkumar/Downloads/my_model3.h5'"
   ]
  },
  {
   "cell_type": "code",
   "execution_count": 67,
   "id": "e00b9094-5e55-470b-a789-96c70af95050",
   "metadata": {},
   "outputs": [],
   "source": [
    "csv_data = pd.read_csv(TEST_CSV_DIR, low_memory=False);"
   ]
  },
  {
   "cell_type": "code",
   "execution_count": 68,
   "id": "1076eccb-bfb6-4aff-a471-8810f14903ff",
   "metadata": {},
   "outputs": [
    {
     "data": {
      "text/plain": [
       "Index(['isic_id', 'target', 'patient_id', 'age_approx', 'sex',\n",
       "       'anatom_site_general', 'clin_size_long_diam_mm', 'image_type',\n",
       "       'tbp_tile_type', 'tbp_lv_A', 'tbp_lv_Aext', 'tbp_lv_B', 'tbp_lv_Bext',\n",
       "       'tbp_lv_C', 'tbp_lv_Cext', 'tbp_lv_H', 'tbp_lv_Hext', 'tbp_lv_L',\n",
       "       'tbp_lv_Lext', 'tbp_lv_areaMM2', 'tbp_lv_area_perim_ratio',\n",
       "       'tbp_lv_color_std_mean', 'tbp_lv_deltaA', 'tbp_lv_deltaB',\n",
       "       'tbp_lv_deltaL', 'tbp_lv_deltaLB', 'tbp_lv_deltaLBnorm',\n",
       "       'tbp_lv_eccentricity', 'tbp_lv_location', 'tbp_lv_location_simple',\n",
       "       'tbp_lv_minorAxisMM', 'tbp_lv_nevi_confidence', 'tbp_lv_norm_border',\n",
       "       'tbp_lv_norm_color', 'tbp_lv_perimeterMM',\n",
       "       'tbp_lv_radial_color_std_max', 'tbp_lv_stdL', 'tbp_lv_stdLExt',\n",
       "       'tbp_lv_symm_2axis', 'tbp_lv_symm_2axis_angle', 'tbp_lv_x', 'tbp_lv_y',\n",
       "       'tbp_lv_z', 'attribution', 'copyright_license', 'lesion_id',\n",
       "       'iddx_full', 'iddx_1', 'iddx_2', 'iddx_3', 'iddx_4', 'iddx_5',\n",
       "       'mel_mitotic_index', 'mel_thick_mm', 'tbp_lv_dnn_lesion_confidence'],\n",
       "      dtype='object')"
      ]
     },
     "execution_count": 68,
     "metadata": {},
     "output_type": "execute_result"
    }
   ],
   "source": [
    "csv_data.columns"
   ]
  },
  {
   "cell_type": "code",
   "execution_count": 69,
   "id": "64ad8abe-942c-4db7-873e-17071f519d78",
   "metadata": {},
   "outputs": [],
   "source": [
    "def getCropImgs(img, needRotations=False):\n",
    "    # img = img.convert('L')\n",
    "    z = np.asarray(img, dtype=np.int8)\n",
    "    c = []\n",
    "    for i in range(3):\n",
    "        for j in range(4):\n",
    "            crop = z[512 * i:512 * (i + 1), 512 * j:512 * (j + 1), :]\n",
    "\n",
    "            c.append(crop)\n",
    "            if needRotations:\n",
    "                c.append(np.rot90(np.rot90(crop)))\n",
    "\n",
    "    # os.system('cls')\n",
    "    # print(\"Crop imgs\", c[2].shape)\n",
    "\n",
    "    return c"
   ]
  },
  {
   "cell_type": "code",
   "execution_count": 70,
   "id": "97d3607a-64a3-4dd1-bcdd-97b1912434a6",
   "metadata": {},
   "outputs": [],
   "source": [
    "data_new = csv_data[['isic_id', 'target']]"
   ]
  },
  {
   "cell_type": "code",
   "execution_count": 71,
   "id": "b97e4889-4973-4986-b8b1-03c0df39e6eb",
   "metadata": {},
   "outputs": [
    {
     "data": {
      "text/plain": [
       "Index(['isic_id', 'target'], dtype='object')"
      ]
     },
     "execution_count": 71,
     "metadata": {},
     "output_type": "execute_result"
    }
   ],
   "source": [
    "data_new.columns\n"
   ]
  },
  {
   "cell_type": "code",
   "execution_count": 72,
   "id": "0ce2aed5-f0a7-42f8-ae73-9a31bfa3c6b8",
   "metadata": {},
   "outputs": [],
   "source": [
    "x_train, x_test, y_train, y_test = train_test_split(csv_data, csv_data['target'], test_size=0.33, random_state=4,\n",
    "                                                    stratify=csv_data['target'])"
   ]
  },
  {
   "cell_type": "code",
   "execution_count": 73,
   "id": "6620df44-e717-4fee-bf88-ee9fc5b9114e",
   "metadata": {},
   "outputs": [
    {
     "data": {
      "text/plain": [
       "Index(['isic_id', 'target', 'patient_id', 'age_approx', 'sex',\n",
       "       'anatom_site_general', 'clin_size_long_diam_mm', 'image_type',\n",
       "       'tbp_tile_type', 'tbp_lv_A', 'tbp_lv_Aext', 'tbp_lv_B', 'tbp_lv_Bext',\n",
       "       'tbp_lv_C', 'tbp_lv_Cext', 'tbp_lv_H', 'tbp_lv_Hext', 'tbp_lv_L',\n",
       "       'tbp_lv_Lext', 'tbp_lv_areaMM2', 'tbp_lv_area_perim_ratio',\n",
       "       'tbp_lv_color_std_mean', 'tbp_lv_deltaA', 'tbp_lv_deltaB',\n",
       "       'tbp_lv_deltaL', 'tbp_lv_deltaLB', 'tbp_lv_deltaLBnorm',\n",
       "       'tbp_lv_eccentricity', 'tbp_lv_location', 'tbp_lv_location_simple',\n",
       "       'tbp_lv_minorAxisMM', 'tbp_lv_nevi_confidence', 'tbp_lv_norm_border',\n",
       "       'tbp_lv_norm_color', 'tbp_lv_perimeterMM',\n",
       "       'tbp_lv_radial_color_std_max', 'tbp_lv_stdL', 'tbp_lv_stdLExt',\n",
       "       'tbp_lv_symm_2axis', 'tbp_lv_symm_2axis_angle', 'tbp_lv_x', 'tbp_lv_y',\n",
       "       'tbp_lv_z', 'attribution', 'copyright_license', 'lesion_id',\n",
       "       'iddx_full', 'iddx_1', 'iddx_2', 'iddx_3', 'iddx_4', 'iddx_5',\n",
       "       'mel_mitotic_index', 'mel_thick_mm', 'tbp_lv_dnn_lesion_confidence'],\n",
       "      dtype='object')"
      ]
     },
     "execution_count": 73,
     "metadata": {},
     "output_type": "execute_result"
    }
   ],
   "source": [
    "x_train.columns"
   ]
  },
  {
   "cell_type": "code",
   "execution_count": 74,
   "id": "24336345-952c-4fa5-9dd6-ab88c6c3092c",
   "metadata": {},
   "outputs": [
    {
     "name": "stdout",
     "output_type": "stream",
     "text": [
      "14778995\n",
      "7279250\n",
      "268709\n",
      "132350\n"
     ]
    }
   ],
   "source": [
    "print(x_train.size)\n",
    "print(x_test.size)\n",
    "print(y_train.size)\n",
    "print(y_test.size)"
   ]
  },
  {
   "cell_type": "code",
   "execution_count": 75,
   "id": "e86e8111-76f3-4b89-b702-b11bbb57d871",
   "metadata": {},
   "outputs": [],
   "source": [
    "def defModel(input_shape):\n",
    "    X_input = Input(input_shape)\n",
    "\n",
    "    # The max pooling layers use a stride equal to the pooling size\n",
    "\n",
    "    X = Conv2D(16, (3, 3), strides=(1, 1))(X_input)  # 'Conv.Layer(1)'\n",
    "\n",
    "    X = Activation('relu')(X)\n",
    "\n",
    "    X = MaxPooling2D((3, 3), strides=3)(X)  # MP Layer(2)\n",
    "\n",
    "    X = Conv2D(32, (3, 3), strides=(1, 1))(X)  # Conv.Layer(3)\n",
    "\n",
    "    X = Activation('relu')(X)\n",
    "\n",
    "    X = MaxPooling2D((2, 2), strides=2)(X)  # MP Layer(4)\n",
    "\n",
    "    X = Conv2D(64, (2, 2), strides=(1, 1))(X)  # Conv.Layer(5)\n",
    "\n",
    "    X = Activation('relu')(X)\n",
    "\n",
    "    X = ZeroPadding2D(padding=(2, 2))(X)  # Output of convlayer(5) will be 82x82, we want 84x84\n",
    "\n",
    "    X = MaxPooling2D((2, 2), strides=2)(X)  # MP Layer(6)\n",
    "\n",
    "    X = Conv2D(64, (2, 2), strides=(1, 1))(X)  # Conv.Layer(7)\n",
    "\n",
    "    X = Activation('relu')(X)\n",
    "\n",
    "    X = ZeroPadding2D(padding=(2, 2))(X)  # Output of convlayer(7) will be 40x40, we want 42x42\n",
    "\n",
    "    X = MaxPooling2D((3, 3), strides=3)(X)  # MP Layer(8)\n",
    "\n",
    "    X = Conv2D(32, (3, 3), strides=(1, 1))(X)  # Con.Layer(9)\n",
    "\n",
    "    X = Activation('relu')(X)\n",
    "\n",
    "    X = Flatten()(X)  # Convert it to FC\n",
    "\n",
    "    X = Dense(256, activation='relu')(X)  # F.C. layer(10)\n",
    "\n",
    "    X = Dense(128, activation='relu')(X)  # F.C. layer(11)\n",
    "\n",
    "    X = Dense(4, activation='softmax')(X)\n",
    "\n",
    "    # ------------------------------------------------------------------------------\n",
    "\n",
    "    model = Model(inputs=X_input, outputs=X, name='Model')\n",
    "\n",
    "    return model"
   ]
  },
  {
   "cell_type": "code",
   "execution_count": 76,
   "id": "2e5a7632-3e77-4cdc-8b4b-a340e21bd209",
   "metadata": {},
   "outputs": [],
   "source": [
    "def defModel(input_shape):\n",
    "    X_input = Input(input_shape)\n",
    "\n",
    "    # The max pooling layers use a stride equal to the pooling size\n",
    "\n",
    "    X = Conv2D(16, (3, 3), strides=(1, 1))(X_input)  # 'Conv.Layer(1)'\n",
    "\n",
    "    X = Activation('relu')(X)\n",
    "\n",
    "    X = MaxPooling2D((3, 3), strides=3)(X)  # MP Layer(2)\n",
    "\n",
    "    X = Conv2D(32, (3, 3), strides=(1, 1))(X)  # Conv.Layer(3)\n",
    "\n",
    "    X = Activation('relu')(X)\n",
    "\n",
    "    X = MaxPooling2D((2, 2), strides=2)(X)  # MP Layer(4)\n",
    "\n",
    "    X = Conv2D(64, (2, 2), strides=(1, 1))(X)  # Conv.Layer(5)\n",
    "\n",
    "    X = Activation('relu')(X)\n",
    "\n",
    "    X = ZeroPadding2D(padding=(2, 2))(X)  # Output of convlayer(5) will be 82x82, we want 84x84\n",
    "\n",
    "    X = MaxPooling2D((2, 2), strides=2)(X)  # MP Layer(6)\n",
    "\n",
    "    X = Conv2D(64, (2, 2), strides=(1, 1))(X)  # Conv.Layer(7)\n",
    "\n",
    "    X = Activation('relu')(X)\n",
    "\n",
    "    X = ZeroPadding2D(padding=(2, 2))(X)  # Output of convlayer(7) will be 40x40, we want 42x42\n",
    "\n",
    "    X = MaxPooling2D((3, 3), strides=3)(X)  # MP Layer(8)\n",
    "\n",
    "    X = Conv2D(32, (3, 3), strides=(1, 1))(X)  # Con.Layer(9)\n",
    "\n",
    "    X = Activation('relu')(X)\n",
    "\n",
    "    X = Flatten()(X)  # Convert it to FC\n",
    "\n",
    "    X = Dense(256, activation='relu')(X)  # F.C. layer(10)\n",
    "\n",
    "    X = Dense(128, activation='relu')(X)  # F.C. layer(11)\n",
    "\n",
    "    X = Dense(4, activation='softmax')(X)\n",
    "\n",
    "    # ------------------------------------------------------------------------------\n",
    "\n",
    "    model = Model(inputs=X_input, outputs=X, name='Model')\n",
    "\n",
    "    return model\n"
   ]
  },
  {
   "cell_type": "code",
   "execution_count": 77,
   "id": "76f7ebe0-c08a-42d3-925d-2c819099dde4",
   "metadata": {},
   "outputs": [],
   "source": [
    "# Get the softmax from folder name\n",
    "def getAsSoftmax(fname):\n",
    "    if (fname == 'b'):\n",
    "        return [1, 0]\n",
    "    else:\n",
    "        return [0, 1]\n"
   ]
  },
  {
   "cell_type": "code",
   "execution_count": 78,
   "id": "2f7a792f-527c-45a3-b7ac-90655aab25c6",
   "metadata": {},
   "outputs": [],
   "source": [
    "def mean_pred(y_true, y_pred):\n",
    "    return K.mean(y_pred)"
   ]
  },
  {
   "cell_type": "code",
   "execution_count": 79,
   "id": "4554996c-805b-40d6-a8c3-ddbecd91429f",
   "metadata": {},
   "outputs": [
    {
     "name": "stderr",
     "output_type": "stream",
     "text": [
      "/var/folders/c9/x7lk2dss3bv89ttknvtmys7w0000gn/T/ipykernel_10768/3893093411.py:1: SettingWithCopyWarning: \n",
      "A value is trying to be set on a copy of a slice from a DataFrame.\n",
      "Try using .loc[row_indexer,col_indexer] = value instead\n",
      "\n",
      "See the caveats in the documentation: https://pandas.pydata.org/pandas-docs/stable/user_guide/indexing.html#returning-a-view-versus-a-copy\n",
      "  data_new['img'] = data_new.apply(lambda _: '', axis=1)\n",
      "/var/folders/c9/x7lk2dss3bv89ttknvtmys7w0000gn/T/ipykernel_10768/3893093411.py:2: SettingWithCopyWarning: \n",
      "A value is trying to be set on a copy of a slice from a DataFrame.\n",
      "Try using .loc[row_indexer,col_indexer] = value instead\n",
      "\n",
      "See the caveats in the documentation: https://pandas.pydata.org/pandas-docs/stable/user_guide/indexing.html#returning-a-view-versus-a-copy\n",
      "  data_new['imgcrop'] = data_new.apply(lambda _: '', axis=1)\n"
     ]
    }
   ],
   "source": [
    "data_new['img'] = data_new.apply(lambda _: '', axis=1)\n",
    "data_new['imgcrop'] = data_new.apply(lambda _: '', axis=1)"
   ]
  },
  {
   "cell_type": "code",
   "execution_count": 80,
   "id": "386181af-f647-4736-b1f9-61b98bb0ff97",
   "metadata": {},
   "outputs": [],
   "source": [
    "data_new.columns\n",
    "image_list = []\n"
   ]
  },
  {
   "cell_type": "code",
   "execution_count": 81,
   "id": "87f19dd8-1b18-466c-a407-5c8d134bd2fb",
   "metadata": {},
   "outputs": [],
   "source": [
    "# def addImageDataToPd(basePath, data_new):\n",
    "#     print(\"Hello---\")\n",
    "#     image_data = os.listdir(basePath)\n",
    "#     print(\"No# of images in data: \" , len(image_data))\n",
    "#     image_files = [f for f in os.listdir(basePath) if f.endswith('.jpg') or f.endswith('.png')]\n",
    "#     # Iterate through the image files\n",
    "#     for image_file in image_files:\n",
    "#        # Open the image file\n",
    "#        img = Image.open(os.path.join(basePath, image_file))\n",
    "#        # Convert the image to an array\n",
    "#        img_array = np.array(img)\n",
    "#        # Append the image array to the list\n",
    "#        image_list.append(img_array)\n",
    "    \n",
    "    \n"
   ]
  },
  {
   "cell_type": "code",
   "execution_count": 82,
   "id": "4a012ff9-a088-4127-87b8-684a60cd9f1d",
   "metadata": {},
   "outputs": [],
   "source": [
    "# addImageDataToPd(TEST_IMG_DIR, data_new)"
   ]
  },
  {
   "cell_type": "code",
   "execution_count": 83,
   "id": "3189c1a3-8316-4351-9264-d96736f139b5",
   "metadata": {},
   "outputs": [],
   "source": [
    "# df = pd.DataFrame(image_list)\n",
    "# df.head()"
   ]
  },
  {
   "cell_type": "code",
   "execution_count": 84,
   "id": "788cf296-efcf-4536-8961-0fb29bf3dd38",
   "metadata": {},
   "outputs": [
    {
     "data": {
      "image/png": "[encoded data removed]",
      "text/plain": [
       "<Figure size 2000x2000 with 16 Axes>"
      ]
     },
     "metadata": {},
     "output_type": "display_data"
    }
   ],
   "source": [
    "import matplotlib.pyplot as plt\n",
    "\n",
    "# Get the number of rows in the dataframe\n",
    "# num_rows = df.shape[0]\n",
    "\n",
    "# Set the number of rows and columns for the grid\n",
    "rows = 4\n",
    "cols = 4\n",
    "\n",
    "# Create a subplot grid with the specified number of rows and columns\n",
    "fig, ax = plt.subplots(rows, cols, figsize=(20,20))\n",
    "\n",
    "# Flatten the subplot grid to a 1-D array\n",
    "ax = ax.ravel()\n",
    "\n",
    "# # Iterate through the rows of the dataframe\n",
    "# for i in range(num_rows):\n",
    "#     try:\n",
    "#         # Get the image array from the dataframe\n",
    "#         img_array = df.iloc[i, 0]\n",
    "#         # Display the image in the current subplot\n",
    "#         ax[i].imshow(img_array)\n",
    "#         ax[i].set_title(f\"Image {i}\")\n",
    "#         ax[i].axis(\"off\")\n",
    "#     except:\n",
    "#         pass\n",
    "# # Show the plot\n",
    "# plt.show()"
   ]
  },
  {
   "cell_type": "code",
   "execution_count": 85,
   "id": "56f0b398-4ef3-413c-a057-478a66cb7e05",
   "metadata": {},
   "outputs": [],
   "source": [
    "columns = ['isic_id', 'target', 'img', 'img1']\n",
    "final_data = pd.DataFrame(columns=columns)"
   ]
  },
  {
   "cell_type": "code",
   "execution_count": 86,
   "id": "4dc09570-39d8-4b91-822e-dd54af9bf76b",
   "metadata": {},
   "outputs": [],
   "source": [
    "def printImage(data,col_name):\n",
    "    for i in range(5):\n",
    "       try:\n",
    "           # Get the image array from the dataframe\n",
    "           img_array = data[col_name].iloc[i, 0]\n",
    "           # Display the image in the current subplot\n",
    "           ax[i].imshow(img_array)\n",
    "           ax[i].set_title(f\"Image {i}\")\n",
    "           ax[i].axis(\"off\")\n",
    "       except:\n",
    "           pass\n"
   ]
  },
  {
   "cell_type": "code",
   "execution_count": 87,
   "id": "5f2f083b-da63-4566-af15-f5ad4ed85372",
   "metadata": {},
   "outputs": [
    {
     "data": {
      "text/plain": [
       "Index(['isic_id', 'target', 'img', 'img1'], dtype='object')"
      ]
     },
     "execution_count": 87,
     "metadata": {},
     "output_type": "execute_result"
    }
   ],
   "source": [
    "final_data.columns"
   ]
  },
  {
   "cell_type": "code",
   "execution_count": 88,
   "id": "7579b7b0-36e6-4e41-91a2-7b55cbc511f4",
   "metadata": {},
   "outputs": [
    {
     "name": "stdout",
     "output_type": "stream",
     "text": [
      "14778995\n",
      "7279250\n",
      "268709\n",
      "132350\n",
      "1604236\n"
     ]
    }
   ],
   "source": [
    "print(x_train.size)\n",
    "print(x_test.size)\n",
    "print(y_train.size)\n",
    "print(y_test.size)\n",
    "print(data_new.size)"
   ]
  },
  {
   "cell_type": "code",
   "execution_count": 89,
   "id": "45641fec-16de-4a62-9a20-6307c1e0b954",
   "metadata": {},
   "outputs": [],
   "source": [
    "def getImageFromPath(basePath, image_file):\n",
    "    image_data = os.listdir(basePath)\n",
    "    img = Image.open(os.path.join(basePath, image_file))\n",
    "    return np.array(img)"
   ]
  },
  {
   "cell_type": "code",
   "execution_count": 90,
   "id": "9bcf32d7-290b-479d-b012-9984e173f84b",
   "metadata": {},
   "outputs": [
    {
     "data": {
      "text/plain": [
       "array([[[180, 146, 134],\n",
       "        [180, 146, 134],\n",
       "        [180, 146, 134],\n",
       "        ...,\n",
       "        [191, 153, 144],\n",
       "        [189, 152, 143],\n",
       "        [189, 152, 143]],\n",
       "\n",
       "       [[184, 150, 138],\n",
       "        [183, 149, 137],\n",
       "        [183, 149, 137],\n",
       "        ...,\n",
       "        [189, 151, 142],\n",
       "        [188, 151, 142],\n",
       "        [187, 150, 141]],\n",
       "\n",
       "       [[189, 155, 143],\n",
       "        [188, 154, 142],\n",
       "        [189, 153, 141],\n",
       "        ...,\n",
       "        [184, 146, 137],\n",
       "        [183, 145, 136],\n",
       "        [182, 145, 136]],\n",
       "\n",
       "       ...,\n",
       "\n",
       "       [[190, 151, 146],\n",
       "        [185, 146, 139],\n",
       "        [178, 139, 132],\n",
       "        ...,\n",
       "        [174, 130, 117],\n",
       "        [175, 131, 118],\n",
       "        [176, 132, 119]],\n",
       "\n",
       "       [[190, 149, 143],\n",
       "        [185, 144, 138],\n",
       "        [179, 139, 131],\n",
       "        ...,\n",
       "        [174, 130, 117],\n",
       "        [175, 131, 118],\n",
       "        [176, 132, 119]],\n",
       "\n",
       "       [[188, 147, 141],\n",
       "        [184, 143, 137],\n",
       "        [178, 138, 130],\n",
       "        ...,\n",
       "        [174, 130, 117],\n",
       "        [174, 130, 117],\n",
       "        [175, 131, 118]]], dtype=uint8)"
      ]
     },
     "execution_count": 90,
     "metadata": {},
     "output_type": "execute_result"
    }
   ],
   "source": [
    "getImageFromPath(TEST_IMG_DIR, 'ISIC_0015670.jpg')"
   ]
  },
  {
   "cell_type": "code",
   "execution_count": 91,
   "id": "2dbb6f04-24a2-47a0-b4b4-b00615032eec",
   "metadata": {},
   "outputs": [
    {
     "data": {
      "text/html": [
       "<div>\n",
       "<style scoped>\n",
       "    .dataframe tbody tr th:only-of-type {\n",
       "        vertical-align: middle;\n",
       "    }\n",
       "\n",
       "    .dataframe tbody tr th {\n",
       "        vertical-align: top;\n",
       "    }\n",
       "\n",
       "    .dataframe thead th {\n",
       "        text-align: right;\n",
       "    }\n",
       "</style>\n",
       "<table border=\"1\" class=\"dataframe\">\n",
       "  <thead>\n",
       "    <tr style=\"text-align: right;\">\n",
       "      <th></th>\n",
       "      <th>isic_id</th>\n",
       "      <th>target</th>\n",
       "      <th>img</th>\n",
       "      <th>imgcrop</th>\n",
       "    </tr>\n",
       "  </thead>\n",
       "  <tbody>\n",
       "    <tr>\n",
       "      <th>0</th>\n",
       "      <td>ISIC_0015670</td>\n",
       "      <td>0</td>\n",
       "      <td></td>\n",
       "      <td></td>\n",
       "    </tr>\n",
       "    <tr>\n",
       "      <th>1</th>\n",
       "      <td>ISIC_0015845</td>\n",
       "      <td>0</td>\n",
       "      <td></td>\n",
       "      <td></td>\n",
       "    </tr>\n",
       "    <tr>\n",
       "      <th>2</th>\n",
       "      <td>ISIC_0015864</td>\n",
       "      <td>0</td>\n",
       "      <td></td>\n",
       "      <td></td>\n",
       "    </tr>\n",
       "    <tr>\n",
       "      <th>3</th>\n",
       "      <td>ISIC_0015902</td>\n",
       "      <td>0</td>\n",
       "      <td></td>\n",
       "      <td></td>\n",
       "    </tr>\n",
       "    <tr>\n",
       "      <th>4</th>\n",
       "      <td>ISIC_0024200</td>\n",
       "      <td>0</td>\n",
       "      <td></td>\n",
       "      <td></td>\n",
       "    </tr>\n",
       "  </tbody>\n",
       "</table>\n",
       "</div>"
      ],
      "text/plain": [
       "        isic_id  target img imgcrop\n",
       "0  ISIC_0015670       0            \n",
       "1  ISIC_0015845       0            \n",
       "2  ISIC_0015864       0            \n",
       "3  ISIC_0015902       0            \n",
       "4  ISIC_0024200       0            "
      ]
     },
     "execution_count": 91,
     "metadata": {},
     "output_type": "execute_result"
    }
   ],
   "source": [
    "data_new.head(5)"
   ]
  },
  {
   "cell_type": "code",
   "execution_count": 99,
   "id": "7ce7af92-0e0c-4712-8f8b-dc01bd2dc116",
   "metadata": {},
   "outputs": [],
   "source": [
    "def getCropImgsWithArray(img_array, needRotations=False):\n",
    "    # img_array = np.asarray(img, dtype=np.int8)\n",
    "    c = []\n",
    "    for i in range(3):\n",
    "        for j in range(4):\n",
    "            crop = img_array[512 * i:512 * (i + 1), 512 * j:512 * (j + 1), :]\n",
    "\n",
    "            c.append(crop)\n",
    "            if needRotations:\n",
    "                c.append(np.rot90(np.rot90(crop)))\n",
    "\n",
    "    # os.system('cls')\n",
    "    # print(\"Crop imgs\", c[2].shape)\n",
    "\n",
    "    return c"
   ]
  },
  {
   "cell_type": "code",
   "execution_count": 101,
   "id": "910d9811-3b76-4d1e-a7d9-db8d664170f9",
   "metadata": {},
   "outputs": [
    {
     "name": "stderr",
     "output_type": "stream",
     "text": [
      "/var/folders/c9/x7lk2dss3bv89ttknvtmys7w0000gn/T/ipykernel_10768/1670296143.py:4: SettingWithCopyWarning: \n",
      "A value is trying to be set on a copy of a slice from a DataFrame\n",
      "\n",
      "See the caveats in the documentation: https://pandas.pydata.org/pandas-docs/stable/user_guide/indexing.html#returning-a-view-versus-a-copy\n",
      "  data_new.iloc[i]['img'] = getImageFromPath(TEST_IMG_DIR,image_path)\n"
     ]
    }
   ],
   "source": [
    "# for i in range(0, len(data_new)):\n",
    "for i in range(1000):\n",
    "    image_path = row['isic_id']+'.jpg'\n",
    "    data_new.iloc[i]['img'] = getImageFromPath(TEST_IMG_DIR,image_path)\n",
    "    # data_new.iloc[i]['imgcrop'] = getCropImgsWithArray(data_new.iloc[i]['img'])"
   ]
  },
  {
   "cell_type": "code",
   "execution_count": 102,
   "id": "543e278d-8646-4ddb-bc97-f5d4997a193b",
   "metadata": {},
   "outputs": [],
   "source": [
    "printImage(data_new,'img')\n",
    "plt.show()"
   ]
  },
  {
   "cell_type": "code",
   "execution_count": 103,
   "id": "41c0a12c-6529-47f0-b7c0-33a163c83668",
   "metadata": {},
   "outputs": [],
   "source": [
    "plt.show()"
   ]
  },
  {
   "cell_type": "code",
   "execution_count": null,
   "id": "5ffd65a6-963f-431d-a767-d9e71da5b25a",
   "metadata": {},
   "outputs": [],
   "source": []
  }
 ],
 "metadata": {
  "kernelspec": {
   "display_name": "Python 3 (ipykernel)",
   "language": "python",
   "name": "python3"
  },
  "language_info": {
   "codemirror_mode": {
    "name": "ipython",
    "version": 3
   },
   "file_extension": ".py",
   "mimetype": "text/x-python",
   "name": "python",
   "nbconvert_exporter": "python",
   "pygments_lexer": "ipython3",
   "version": "3.8.18"
  }
 },
 "nbformat": 4,
 "nbformat_minor": 5
}
