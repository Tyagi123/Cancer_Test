{
 "cells": [
  {
   "cell_type": "code",
   "execution_count": 68,
   "id": "9972c51f-93ae-4f3f-a8df-7f97c49a8582",
   "metadata": {},
   "outputs": [],
   "source": [
    "from tensorflow.keras import datasets, layers, models\n",
    "import matplotlib.pyplot as plt\n",
    "from keras.preprocessing import image\n",
    "import tensorflow as tf\n",
    "import pandas as pd\n",
    "import numpy as np\n",
    "from pathlib import Path\n",
    "from tensorflow.keras.preprocessing.image import ImageDataGenerator\n",
    "import matplotlib.pyplot as plt\n",
    "from tensorflow.keras import datasets, layers, models\n",
    "from sklearn.model_selection import train_test_split\n",
    "from keras.preprocessing import image\n",
    "from PIL import Image\n",
    "import os"
   ]
  },
  {
   "cell_type": "code",
   "execution_count": 72,
   "id": "0ad5b68f-951a-4e70-a885-c1163ae366d0",
   "metadata": {},
   "outputs": [],
   "source": [
    "TEST_IMG_DIR = \"/Users/gauravkumar/Downloads/Data/isic-2024-challenge/train-image/image/\"\n",
    "TEST_CSV_DIR = \"/Users/gauravkumar/Downloads/Data/isic-2024-challenge/train-metadata.csv\"\n",
    "modelSavePath = '/Users/gauravkumar/Downloads/my_model3.h5'"
   ]
  },
  {
   "cell_type": "code",
   "execution_count": 3,
   "id": "e00b9094-5e55-470b-a789-96c70af95050",
   "metadata": {},
   "outputs": [],
   "source": [
    "csv_data = pd.read_csv(TEST_CSV_DIR, low_memory=False);"
   ]
  },
  {
   "cell_type": "code",
   "execution_count": 4,
   "id": "1076eccb-bfb6-4aff-a471-8810f14903ff",
   "metadata": {},
   "outputs": [
    {
     "data": {
      "text/plain": [
       "Index(['isic_id', 'target', 'patient_id', 'age_approx', 'sex',\n",
       "       'anatom_site_general', 'clin_size_long_diam_mm', 'image_type',\n",
       "       'tbp_tile_type', 'tbp_lv_A', 'tbp_lv_Aext', 'tbp_lv_B', 'tbp_lv_Bext',\n",
       "       'tbp_lv_C', 'tbp_lv_Cext', 'tbp_lv_H', 'tbp_lv_Hext', 'tbp_lv_L',\n",
       "       'tbp_lv_Lext', 'tbp_lv_areaMM2', 'tbp_lv_area_perim_ratio',\n",
       "       'tbp_lv_color_std_mean', 'tbp_lv_deltaA', 'tbp_lv_deltaB',\n",
       "       'tbp_lv_deltaL', 'tbp_lv_deltaLB', 'tbp_lv_deltaLBnorm',\n",
       "       'tbp_lv_eccentricity', 'tbp_lv_location', 'tbp_lv_location_simple',\n",
       "       'tbp_lv_minorAxisMM', 'tbp_lv_nevi_confidence', 'tbp_lv_norm_border',\n",
       "       'tbp_lv_norm_color', 'tbp_lv_perimeterMM',\n",
       "       'tbp_lv_radial_color_std_max', 'tbp_lv_stdL', 'tbp_lv_stdLExt',\n",
       "       'tbp_lv_symm_2axis', 'tbp_lv_symm_2axis_angle', 'tbp_lv_x', 'tbp_lv_y',\n",
       "       'tbp_lv_z', 'attribution', 'copyright_license', 'lesion_id',\n",
       "       'iddx_full', 'iddx_1', 'iddx_2', 'iddx_3', 'iddx_4', 'iddx_5',\n",
       "       'mel_mitotic_index', 'mel_thick_mm', 'tbp_lv_dnn_lesion_confidence'],\n",
       "      dtype='object')"
      ]
     },
     "execution_count": 4,
     "metadata": {},
     "output_type": "execute_result"
    }
   ],
   "source": [
    "csv_data.columns"
   ]
  },
  {
   "cell_type": "code",
   "execution_count": 5,
   "id": "64ad8abe-942c-4db7-873e-17071f519d78",
   "metadata": {},
   "outputs": [],
   "source": [
    "def getCropImgs(img, needRotations=False):\n",
    "    # img = img.convert('L')\n",
    "    z = np.asarray(img, dtype=np.int8)\n",
    "    c = []\n",
    "    for i in range(3):\n",
    "        for j in range(4):\n",
    "            crop = z[512 * i:512 * (i + 1), 512 * j:512 * (j + 1), :]\n",
    "\n",
    "            c.append(crop)\n",
    "            if needRotations:\n",
    "                c.append(np.rot90(np.rot90(crop)))\n",
    "\n",
    "    # os.system('cls')\n",
    "    # print(\"Crop imgs\", c[2].shape)\n",
    "\n",
    "    return c"
   ]
  },
  {
   "cell_type": "code",
   "execution_count": 6,
   "id": "97d3607a-64a3-4dd1-bcdd-97b1912434a6",
   "metadata": {},
   "outputs": [],
   "source": [
    "data_new = csv_data[['isic_id', 'target']]"
   ]
  },
  {
   "cell_type": "code",
   "execution_count": 7,
   "id": "b97e4889-4973-4986-b8b1-03c0df39e6eb",
   "metadata": {},
   "outputs": [
    {
     "data": {
      "text/plain": [
       "Index(['isic_id', 'target'], dtype='object')"
      ]
     },
     "execution_count": 7,
     "metadata": {},
     "output_type": "execute_result"
    }
   ],
   "source": [
    "data_new.columns"
   ]
  },
  {
   "cell_type": "code",
   "execution_count": 8,
   "id": "0ce2aed5-f0a7-42f8-ae73-9a31bfa3c6b8",
   "metadata": {},
   "outputs": [],
   "source": [
    "x_train, x_test, y_train, y_test = train_test_split(csv_data, csv_data['target'], test_size=0.33, random_state=4,\n",
    "                                                    stratify=csv_data['target'])"
   ]
  },
  {
   "cell_type": "code",
   "execution_count": 9,
   "id": "6620df44-e717-4fee-bf88-ee9fc5b9114e",
   "metadata": {},
   "outputs": [
    {
     "data": {
      "text/plain": [
       "Index(['isic_id', 'target', 'patient_id', 'age_approx', 'sex',\n",
       "       'anatom_site_general', 'clin_size_long_diam_mm', 'image_type',\n",
       "       'tbp_tile_type', 'tbp_lv_A', 'tbp_lv_Aext', 'tbp_lv_B', 'tbp_lv_Bext',\n",
       "       'tbp_lv_C', 'tbp_lv_Cext', 'tbp_lv_H', 'tbp_lv_Hext', 'tbp_lv_L',\n",
       "       'tbp_lv_Lext', 'tbp_lv_areaMM2', 'tbp_lv_area_perim_ratio',\n",
       "       'tbp_lv_color_std_mean', 'tbp_lv_deltaA', 'tbp_lv_deltaB',\n",
       "       'tbp_lv_deltaL', 'tbp_lv_deltaLB', 'tbp_lv_deltaLBnorm',\n",
       "       'tbp_lv_eccentricity', 'tbp_lv_location', 'tbp_lv_location_simple',\n",
       "       'tbp_lv_minorAxisMM', 'tbp_lv_nevi_confidence', 'tbp_lv_norm_border',\n",
       "       'tbp_lv_norm_color', 'tbp_lv_perimeterMM',\n",
       "       'tbp_lv_radial_color_std_max', 'tbp_lv_stdL', 'tbp_lv_stdLExt',\n",
       "       'tbp_lv_symm_2axis', 'tbp_lv_symm_2axis_angle', 'tbp_lv_x', 'tbp_lv_y',\n",
       "       'tbp_lv_z', 'attribution', 'copyright_license', 'lesion_id',\n",
       "       'iddx_full', 'iddx_1', 'iddx_2', 'iddx_3', 'iddx_4', 'iddx_5',\n",
       "       'mel_mitotic_index', 'mel_thick_mm', 'tbp_lv_dnn_lesion_confidence'],\n",
       "      dtype='object')"
      ]
     },
     "execution_count": 9,
     "metadata": {},
     "output_type": "execute_result"
    }
   ],
   "source": [
    "x_train.columns"
   ]
  },
  {
   "cell_type": "code",
   "execution_count": 16,
   "id": "24336345-952c-4fa5-9dd6-ab88c6c3092c",
   "metadata": {},
   "outputs": [
    {
     "name": "stdout",
     "output_type": "stream",
     "text": [
      "14778995\n",
      "7279250\n",
      "268709\n",
      "132350\n"
     ]
    }
   ],
   "source": [
    "print(x_train.size)\n",
    "print(x_test.size)\n",
    "print(y_train.size)\n",
    "print(y_test.size)"
   ]
  },
  {
   "cell_type": "code",
   "execution_count": 19,
   "id": "e86e8111-76f3-4b89-b702-b11bbb57d871",
   "metadata": {},
   "outputs": [],
   "source": [
    "def defModel(input_shape):\n",
    "    X_input = Input(input_shape)\n",
    "\n",
    "    # The max pooling layers use a stride equal to the pooling size\n",
    "\n",
    "    X = Conv2D(16, (3, 3), strides=(1, 1))(X_input)  # 'Conv.Layer(1)'\n",
    "\n",
    "    X = Activation('relu')(X)\n",
    "\n",
    "    X = MaxPooling2D((3, 3), strides=3)(X)  # MP Layer(2)\n",
    "\n",
    "    X = Conv2D(32, (3, 3), strides=(1, 1))(X)  # Conv.Layer(3)\n",
    "\n",
    "    X = Activation('relu')(X)\n",
    "\n",
    "    X = MaxPooling2D((2, 2), strides=2)(X)  # MP Layer(4)\n",
    "\n",
    "    X = Conv2D(64, (2, 2), strides=(1, 1))(X)  # Conv.Layer(5)\n",
    "\n",
    "    X = Activation('relu')(X)\n",
    "\n",
    "    X = ZeroPadding2D(padding=(2, 2))(X)  # Output of convlayer(5) will be 82x82, we want 84x84\n",
    "\n",
    "    X = MaxPooling2D((2, 2), strides=2)(X)  # MP Layer(6)\n",
    "\n",
    "    X = Conv2D(64, (2, 2), strides=(1, 1))(X)  # Conv.Layer(7)\n",
    "\n",
    "    X = Activation('relu')(X)\n",
    "\n",
    "    X = ZeroPadding2D(padding=(2, 2))(X)  # Output of convlayer(7) will be 40x40, we want 42x42\n",
    "\n",
    "    X = MaxPooling2D((3, 3), strides=3)(X)  # MP Layer(8)\n",
    "\n",
    "    X = Conv2D(32, (3, 3), strides=(1, 1))(X)  # Con.Layer(9)\n",
    "\n",
    "    X = Activation('relu')(X)\n",
    "\n",
    "    X = Flatten()(X)  # Convert it to FC\n",
    "\n",
    "    X = Dense(256, activation='relu')(X)  # F.C. layer(10)\n",
    "\n",
    "    X = Dense(128, activation='relu')(X)  # F.C. layer(11)\n",
    "\n",
    "    X = Dense(4, activation='softmax')(X)\n",
    "\n",
    "    # ------------------------------------------------------------------------------\n",
    "\n",
    "    model = Model(inputs=X_input, outputs=X, name='Model')\n",
    "\n",
    "    return model"
   ]
  },
  {
   "cell_type": "code",
   "execution_count": 20,
   "id": "2e5a7632-3e77-4cdc-8b4b-a340e21bd209",
   "metadata": {},
   "outputs": [],
   "source": [
    "def defModel(input_shape):\n",
    "    X_input = Input(input_shape)\n",
    "\n",
    "    # The max pooling layers use a stride equal to the pooling size\n",
    "\n",
    "    X = Conv2D(16, (3, 3), strides=(1, 1))(X_input)  # 'Conv.Layer(1)'\n",
    "\n",
    "    X = Activation('relu')(X)\n",
    "\n",
    "    X = MaxPooling2D((3, 3), strides=3)(X)  # MP Layer(2)\n",
    "\n",
    "    X = Conv2D(32, (3, 3), strides=(1, 1))(X)  # Conv.Layer(3)\n",
    "\n",
    "    X = Activation('relu')(X)\n",
    "\n",
    "    X = MaxPooling2D((2, 2), strides=2)(X)  # MP Layer(4)\n",
    "\n",
    "    X = Conv2D(64, (2, 2), strides=(1, 1))(X)  # Conv.Layer(5)\n",
    "\n",
    "    X = Activation('relu')(X)\n",
    "\n",
    "    X = ZeroPadding2D(padding=(2, 2))(X)  # Output of convlayer(5) will be 82x82, we want 84x84\n",
    "\n",
    "    X = MaxPooling2D((2, 2), strides=2)(X)  # MP Layer(6)\n",
    "\n",
    "    X = Conv2D(64, (2, 2), strides=(1, 1))(X)  # Conv.Layer(7)\n",
    "\n",
    "    X = Activation('relu')(X)\n",
    "\n",
    "    X = ZeroPadding2D(padding=(2, 2))(X)  # Output of convlayer(7) will be 40x40, we want 42x42\n",
    "\n",
    "    X = MaxPooling2D((3, 3), strides=3)(X)  # MP Layer(8)\n",
    "\n",
    "    X = Conv2D(32, (3, 3), strides=(1, 1))(X)  # Con.Layer(9)\n",
    "\n",
    "    X = Activation('relu')(X)\n",
    "\n",
    "    X = Flatten()(X)  # Convert it to FC\n",
    "\n",
    "    X = Dense(256, activation='relu')(X)  # F.C. layer(10)\n",
    "\n",
    "    X = Dense(128, activation='relu')(X)  # F.C. layer(11)\n",
    "\n",
    "    X = Dense(4, activation='softmax')(X)\n",
    "\n",
    "    # ------------------------------------------------------------------------------\n",
    "\n",
    "    model = Model(inputs=X_input, outputs=X, name='Model')\n",
    "\n",
    "    return model\n"
   ]
  },
  {
   "cell_type": "code",
   "execution_count": 21,
   "id": "76f7ebe0-c08a-42d3-925d-2c819099dde4",
   "metadata": {},
   "outputs": [],
   "source": [
    "# Get the softmax from folder name\n",
    "def getAsSoftmax(fname):\n",
    "    if (fname == 'b'):\n",
    "        return [1, 0]\n",
    "    else:\n",
    "        return [0, 1]\n"
   ]
  },
  {
   "cell_type": "code",
   "execution_count": 22,
   "id": "2f7a792f-527c-45a3-b7ac-90655aab25c6",
   "metadata": {},
   "outputs": [],
   "source": [
    "def mean_pred(y_true, y_pred):\n",
    "    return K.mean(y_pred)"
   ]
  },
  {
   "cell_type": "code",
   "execution_count": null,
   "id": "4554996c-805b-40d6-a8c3-ddbecd91429f",
   "metadata": {},
   "outputs": [],
   "source": [
    "data_new['img'] = data_new.apply(lambda _: '', axis=1)\n",
    "data_new['imgcrop'] = data_new.apply(lambda _: '', axis=1)"
   ]
  },
  {
   "cell_type": "code",
   "execution_count": 58,
   "id": "386181af-f647-4736-b1f9-61b98bb0ff97",
   "metadata": {},
   "outputs": [
    {
     "data": {
      "text/plain": [
       "Index(['isic_id', 'target', 'img', 'imgcrop'], dtype='object')"
      ]
     },
     "execution_count": 58,
     "metadata": {},
     "output_type": "execute_result"
    }
   ],
   "source": [
    "data_new.columns"
   ]
  },
  {
   "cell_type": "code",
   "execution_count": 73,
   "id": "87f19dd8-1b18-466c-a407-5c8d134bd2fb",
   "metadata": {},
   "outputs": [],
   "source": [
    "def addImageDataToPd(basePath, data_new):\n",
    "    print(\"Hello---\")\n",
    "    # for i in data_new['isic_id']:\n",
    "    for i in range(4):\n",
    "        print(\"isic_id= \" + data_new['isic_id'])\n",
    "        path = basePath+data_new['isic_id']+\".jpg\"\n",
    "        print(\"path= \" + path)\n",
    "        image = Image.open(path)\n",
    "        print(\"full_path= \" + path)\n",
    "        print(\"Image read=======\")\n",
    "        #data_new['imgcrop'] = getCropImgs(img)\n",
    "        data_new['img'] = image"
   ]
  },
  {
   "cell_type": "code",
   "execution_count": 74,
   "id": "4a012ff9-a088-4127-87b8-684a60cd9f1d",
   "metadata": {},
   "outputs": [
    {
     "name": "stdout",
     "output_type": "stream",
     "text": [
      "Hello---\n",
      "0         isic_id= ISIC_0015670\n",
      "1         isic_id= ISIC_0015845\n",
      "2         isic_id= ISIC_0015864\n",
      "3         isic_id= ISIC_0015902\n",
      "4         isic_id= ISIC_0024200\n",
      "                  ...          \n",
      "401054    isic_id= ISIC_9999937\n",
      "401055    isic_id= ISIC_9999951\n",
      "401056    isic_id= ISIC_9999960\n",
      "401057    isic_id= ISIC_9999964\n",
      "401058    isic_id= ISIC_9999967\n",
      "Name: isic_id, Length: 401059, dtype: object\n",
      "0         path= /Users/gauravkumar/Downloads/Data/isic-2...\n",
      "1         path= /Users/gauravkumar/Downloads/Data/isic-2...\n",
      "2         path= /Users/gauravkumar/Downloads/Data/isic-2...\n",
      "3         path= /Users/gauravkumar/Downloads/Data/isic-2...\n",
      "4         path= /Users/gauravkumar/Downloads/Data/isic-2...\n",
      "                                ...                        \n",
      "401054    path= /Users/gauravkumar/Downloads/Data/isic-2...\n",
      "401055    path= /Users/gauravkumar/Downloads/Data/isic-2...\n",
      "401056    path= /Users/gauravkumar/Downloads/Data/isic-2...\n",
      "401057    path= /Users/gauravkumar/Downloads/Data/isic-2...\n",
      "401058    path= /Users/gauravkumar/Downloads/Data/isic-2...\n",
      "Name: isic_id, Length: 401059, dtype: object\n"
     ]
    },
    {
     "ename": "AttributeError",
     "evalue": "'Series' object has no attribute 'read'",
     "output_type": "error",
     "traceback": [
      "\u001b[0;31m---------------------------------------------------------------------------\u001b[0m",
      "\u001b[0;31mAttributeError\u001b[0m                            Traceback (most recent call last)",
      "\u001b[0;32m/opt/anaconda3/envs/Dev/lib/python3.8/site-packages/PIL/Image.py\u001b[0m in \u001b[0;36m?\u001b[0;34m(fp, mode, formats)\u001b[0m\n\u001b[1;32m   3281\u001b[0m         \u001b[0mfp\u001b[0m\u001b[0;34m.\u001b[0m\u001b[0mseek\u001b[0m\u001b[0;34m(\u001b[0m\u001b[0;36m0\u001b[0m\u001b[0;34m)\u001b[0m\u001b[0;34m\u001b[0m\u001b[0;34m\u001b[0m\u001b[0m\n\u001b[1;32m   3282\u001b[0m     \u001b[0;32mexcept\u001b[0m \u001b[0;34m(\u001b[0m\u001b[0mAttributeError\u001b[0m\u001b[0;34m,\u001b[0m \u001b[0mio\u001b[0m\u001b[0;34m.\u001b[0m\u001b[0mUnsupportedOperation\u001b[0m\u001b[0;34m)\u001b[0m\u001b[0;34m:\u001b[0m\u001b[0;34m\u001b[0m\u001b[0;34m\u001b[0m\u001b[0m\n\u001b[0;32m-> 3283\u001b[0;31m         \u001b[0mfp\u001b[0m \u001b[0;34m=\u001b[0m \u001b[0mio\u001b[0m\u001b[0;34m.\u001b[0m\u001b[0mBytesIO\u001b[0m\u001b[0;34m(\u001b[0m\u001b[0mfp\u001b[0m\u001b[0;34m.\u001b[0m\u001b[0mread\u001b[0m\u001b[0;34m(\u001b[0m\u001b[0;34m)\u001b[0m\u001b[0;34m)\u001b[0m\u001b[0;34m\u001b[0m\u001b[0;34m\u001b[0m\u001b[0m\n\u001b[0m\u001b[1;32m   3284\u001b[0m         \u001b[0mexclusive_fp\u001b[0m \u001b[0;34m=\u001b[0m \u001b[0;32mTrue\u001b[0m\u001b[0;34m\u001b[0m\u001b[0;34m\u001b[0m\u001b[0m\n",
      "\u001b[0;32m/opt/anaconda3/envs/Dev/lib/python3.8/site-packages/pandas/core/generic.py\u001b[0m in \u001b[0;36m?\u001b[0;34m(self, name)\u001b[0m\n\u001b[1;32m   5987\u001b[0m         ):\n\u001b[1;32m   5988\u001b[0m             \u001b[0;32mreturn\u001b[0m \u001b[0mself\u001b[0m\u001b[0;34m[\u001b[0m\u001b[0mname\u001b[0m\u001b[0;34m]\u001b[0m\u001b[0;34m\u001b[0m\u001b[0;34m\u001b[0m\u001b[0m\n\u001b[0;32m-> 5989\u001b[0;31m         \u001b[0;32mreturn\u001b[0m \u001b[0mobject\u001b[0m\u001b[0;34m.\u001b[0m\u001b[0m__getattribute__\u001b[0m\u001b[0;34m(\u001b[0m\u001b[0mself\u001b[0m\u001b[0;34m,\u001b[0m \u001b[0mname\u001b[0m\u001b[0;34m)\u001b[0m\u001b[0;34m\u001b[0m\u001b[0;34m\u001b[0m\u001b[0m\n\u001b[0m",
      "\u001b[0;31mAttributeError\u001b[0m: 'Series' object has no attribute 'seek'",
      "\nDuring handling of the above exception, another exception occurred:\n",
      "\u001b[0;31mAttributeError\u001b[0m                            Traceback (most recent call last)",
      "\u001b[0;32m/var/folders/c9/x7lk2dss3bv89ttknvtmys7w0000gn/T/ipykernel_155/4272665463.py\u001b[0m in \u001b[0;36m?\u001b[0;34m()\u001b[0m\n\u001b[0;32m----> 1\u001b[0;31m \u001b[0maddImageDataToPd\u001b[0m\u001b[0;34m(\u001b[0m\u001b[0mTEST_IMG_DIR\u001b[0m\u001b[0;34m,\u001b[0m \u001b[0mdata_new\u001b[0m\u001b[0;34m)\u001b[0m\u001b[0;34m\u001b[0m\u001b[0;34m\u001b[0m\u001b[0m\n\u001b[0m",
      "\u001b[0;32m/var/folders/c9/x7lk2dss3bv89ttknvtmys7w0000gn/T/ipykernel_155/4070017819.py\u001b[0m in \u001b[0;36m?\u001b[0;34m(basePath, data_new)\u001b[0m\n\u001b[1;32m      4\u001b[0m     \u001b[0;32mfor\u001b[0m \u001b[0mi\u001b[0m \u001b[0;32min\u001b[0m \u001b[0mrange\u001b[0m\u001b[0;34m(\u001b[0m\u001b[0;36m4\u001b[0m\u001b[0;34m)\u001b[0m\u001b[0;34m:\u001b[0m\u001b[0;34m\u001b[0m\u001b[0;34m\u001b[0m\u001b[0m\n\u001b[1;32m      5\u001b[0m         \u001b[0mprint\u001b[0m\u001b[0;34m(\u001b[0m\u001b[0;34m\"isic_id= \"\u001b[0m \u001b[0;34m+\u001b[0m \u001b[0mdata_new\u001b[0m\u001b[0;34m[\u001b[0m\u001b[0;34m'isic_id'\u001b[0m\u001b[0;34m]\u001b[0m\u001b[0;34m)\u001b[0m\u001b[0;34m\u001b[0m\u001b[0;34m\u001b[0m\u001b[0m\n\u001b[1;32m      6\u001b[0m         \u001b[0mpath\u001b[0m \u001b[0;34m=\u001b[0m \u001b[0mbasePath\u001b[0m\u001b[0;34m+\u001b[0m\u001b[0mdata_new\u001b[0m\u001b[0;34m[\u001b[0m\u001b[0;34m'isic_id'\u001b[0m\u001b[0;34m]\u001b[0m\u001b[0;34m+\u001b[0m\u001b[0;34m\".jpg\"\u001b[0m\u001b[0;34m\u001b[0m\u001b[0;34m\u001b[0m\u001b[0m\n\u001b[1;32m      7\u001b[0m         \u001b[0mprint\u001b[0m\u001b[0;34m(\u001b[0m\u001b[0;34m\"path= \"\u001b[0m \u001b[0;34m+\u001b[0m \u001b[0mpath\u001b[0m\u001b[0;34m)\u001b[0m\u001b[0;34m\u001b[0m\u001b[0;34m\u001b[0m\u001b[0m\n\u001b[0;32m----> 8\u001b[0;31m         \u001b[0mimage\u001b[0m \u001b[0;34m=\u001b[0m \u001b[0mImage\u001b[0m\u001b[0;34m.\u001b[0m\u001b[0mopen\u001b[0m\u001b[0;34m(\u001b[0m\u001b[0mpath\u001b[0m\u001b[0;34m)\u001b[0m\u001b[0;34m\u001b[0m\u001b[0;34m\u001b[0m\u001b[0m\n\u001b[0m\u001b[1;32m      9\u001b[0m         \u001b[0mprint\u001b[0m\u001b[0;34m(\u001b[0m\u001b[0;34m\"full_path= \"\u001b[0m \u001b[0;34m+\u001b[0m \u001b[0mpath\u001b[0m\u001b[0;34m)\u001b[0m\u001b[0;34m\u001b[0m\u001b[0;34m\u001b[0m\u001b[0m\n\u001b[1;32m     10\u001b[0m         \u001b[0mprint\u001b[0m\u001b[0;34m(\u001b[0m\u001b[0;34m\"Image read=======\"\u001b[0m\u001b[0;34m)\u001b[0m\u001b[0;34m\u001b[0m\u001b[0;34m\u001b[0m\u001b[0m\n\u001b[1;32m     11\u001b[0m         \u001b[0;31m#data_new['imgcrop'] = getCropImgs(img)\u001b[0m\u001b[0;34m\u001b[0m\u001b[0;34m\u001b[0m\u001b[0;34m\u001b[0m\u001b[0m\n",
      "\u001b[0;32m/opt/anaconda3/envs/Dev/lib/python3.8/site-packages/PIL/Image.py\u001b[0m in \u001b[0;36m?\u001b[0;34m(fp, mode, formats)\u001b[0m\n\u001b[1;32m   3279\u001b[0m \u001b[0;34m\u001b[0m\u001b[0m\n\u001b[1;32m   3280\u001b[0m     \u001b[0;32mtry\u001b[0m\u001b[0;34m:\u001b[0m\u001b[0;34m\u001b[0m\u001b[0;34m\u001b[0m\u001b[0m\n\u001b[1;32m   3281\u001b[0m         \u001b[0mfp\u001b[0m\u001b[0;34m.\u001b[0m\u001b[0mseek\u001b[0m\u001b[0;34m(\u001b[0m\u001b[0;36m0\u001b[0m\u001b[0;34m)\u001b[0m\u001b[0;34m\u001b[0m\u001b[0;34m\u001b[0m\u001b[0m\n\u001b[1;32m   3282\u001b[0m     \u001b[0;32mexcept\u001b[0m \u001b[0;34m(\u001b[0m\u001b[0mAttributeError\u001b[0m\u001b[0;34m,\u001b[0m \u001b[0mio\u001b[0m\u001b[0;34m.\u001b[0m\u001b[0mUnsupportedOperation\u001b[0m\u001b[0;34m)\u001b[0m\u001b[0;34m:\u001b[0m\u001b[0;34m\u001b[0m\u001b[0;34m\u001b[0m\u001b[0m\n\u001b[0;32m-> 3283\u001b[0;31m         \u001b[0mfp\u001b[0m \u001b[0;34m=\u001b[0m \u001b[0mio\u001b[0m\u001b[0;34m.\u001b[0m\u001b[0mBytesIO\u001b[0m\u001b[0;34m(\u001b[0m\u001b[0mfp\u001b[0m\u001b[0;34m.\u001b[0m\u001b[0mread\u001b[0m\u001b[0;34m(\u001b[0m\u001b[0;34m)\u001b[0m\u001b[0;34m)\u001b[0m\u001b[0;34m\u001b[0m\u001b[0;34m\u001b[0m\u001b[0m\n\u001b[0m\u001b[1;32m   3284\u001b[0m         \u001b[0mexclusive_fp\u001b[0m \u001b[0;34m=\u001b[0m \u001b[0;32mTrue\u001b[0m\u001b[0;34m\u001b[0m\u001b[0;34m\u001b[0m\u001b[0m\n\u001b[1;32m   3285\u001b[0m \u001b[0;34m\u001b[0m\u001b[0m\n\u001b[1;32m   3286\u001b[0m     \u001b[0mprefix\u001b[0m \u001b[0;34m=\u001b[0m \u001b[0mfp\u001b[0m\u001b[0;34m.\u001b[0m\u001b[0mread\u001b[0m\u001b[0;34m(\u001b[0m\u001b[0;36m16\u001b[0m\u001b[0;34m)\u001b[0m\u001b[0;34m\u001b[0m\u001b[0;34m\u001b[0m\u001b[0m\n",
      "\u001b[0;32m/opt/anaconda3/envs/Dev/lib/python3.8/site-packages/pandas/core/generic.py\u001b[0m in \u001b[0;36m?\u001b[0;34m(self, name)\u001b[0m\n\u001b[1;32m   5985\u001b[0m             \u001b[0;32mand\u001b[0m \u001b[0mname\u001b[0m \u001b[0;32mnot\u001b[0m \u001b[0;32min\u001b[0m \u001b[0mself\u001b[0m\u001b[0;34m.\u001b[0m\u001b[0m_accessors\u001b[0m\u001b[0;34m\u001b[0m\u001b[0;34m\u001b[0m\u001b[0m\n\u001b[1;32m   5986\u001b[0m             \u001b[0;32mand\u001b[0m \u001b[0mself\u001b[0m\u001b[0;34m.\u001b[0m\u001b[0m_info_axis\u001b[0m\u001b[0;34m.\u001b[0m\u001b[0m_can_hold_identifiers_and_holds_name\u001b[0m\u001b[0;34m(\u001b[0m\u001b[0mname\u001b[0m\u001b[0;34m)\u001b[0m\u001b[0;34m\u001b[0m\u001b[0;34m\u001b[0m\u001b[0m\n\u001b[1;32m   5987\u001b[0m         ):\n\u001b[1;32m   5988\u001b[0m             \u001b[0;32mreturn\u001b[0m \u001b[0mself\u001b[0m\u001b[0;34m[\u001b[0m\u001b[0mname\u001b[0m\u001b[0;34m]\u001b[0m\u001b[0;34m\u001b[0m\u001b[0;34m\u001b[0m\u001b[0m\n\u001b[0;32m-> 5989\u001b[0;31m         \u001b[0;32mreturn\u001b[0m \u001b[0mobject\u001b[0m\u001b[0;34m.\u001b[0m\u001b[0m__getattribute__\u001b[0m\u001b[0;34m(\u001b[0m\u001b[0mself\u001b[0m\u001b[0;34m,\u001b[0m \u001b[0mname\u001b[0m\u001b[0;34m)\u001b[0m\u001b[0;34m\u001b[0m\u001b[0;34m\u001b[0m\u001b[0m\n\u001b[0m",
      "\u001b[0;31mAttributeError\u001b[0m: 'Series' object has no attribute 'read'"
     ]
    }
   ],
   "source": [
    "addImageDataToPd(TEST_IMG_DIR, data_new)"
   ]
  },
  {
   "cell_type": "code",
   "execution_count": null,
   "id": "3189c1a3-8316-4351-9264-d96736f139b5",
   "metadata": {},
   "outputs": [],
   "source": []
  }
 ],
 "metadata": {
  "kernelspec": {
   "display_name": "Python 3 (ipykernel)",
   "language": "python",
   "name": "python3"
  },
  "language_info": {
   "codemirror_mode": {
    "name": "ipython",
    "version": 3
   },
   "file_extension": ".py",
   "mimetype": "text/x-python",
   "name": "python",
   "nbconvert_exporter": "python",
   "pygments_lexer": "ipython3",
   "version": "3.8.18"
  }
 },
 "nbformat": 4,
 "nbformat_minor": 5
}
