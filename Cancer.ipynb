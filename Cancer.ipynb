{
 "cells": [
  {
   "cell_type": "code",
   "execution_count": 1,
   "id": "9972c51f-93ae-4f3f-a8df-7f97c49a8582",
   "metadata": {},
   "outputs": [],
   "source": [
    "from tensorflow.keras import datasets, layers, models\n",
    "import matplotlib.pyplot as plt\n",
    "from keras.preprocessing import image\n",
    "import tensorflow as tf\n",
    "import pandas as pd\n",
    "import numpy as np\n",
    "from pathlib import Path\n",
    "from tensorflow.keras.preprocessing.image import ImageDataGenerator\n",
    "import matplotlib.pyplot as plt\n",
    "from tensorflow.keras import datasets, layers, models\n",
    "from sklearn.model_selection import train_test_split\n",
    "from keras.preprocessing import image\n",
    "from PIL import Image\n",
    "import os\n",
    "import PIL\n",
    "from keras.layers import Input, Dense, Activation, ZeroPadding2D, Flatten, Conv2D"
   ]
  },
  {
   "cell_type": "code",
   "execution_count": 2,
   "id": "0ad5b68f-951a-4e70-a885-c1163ae366d0",
   "metadata": {},
   "outputs": [],
   "source": [
    "TEST_IMG_DIR = \"/Users/gauravkumar/Downloads/Data/isic-2024-challenge/train-image/image/\"\n",
    "TEST_CSV_DIR = \"/Users/gauravkumar/Downloads/Data/isic-2024-challenge/train-metadata.csv\"\n",
    "modelSavePath = '/Users/gauravkumar/Downloads/my_model3.h5'"
   ]
  },
  {
   "cell_type": "code",
   "execution_count": 3,
   "id": "e00b9094-5e55-470b-a789-96c70af95050",
   "metadata": {},
   "outputs": [],
   "source": [
    "csv_data = pd.read_csv(TEST_CSV_DIR, low_memory=False);"
   ]
  },
  {
   "cell_type": "code",
   "execution_count": 4,
   "id": "1076eccb-bfb6-4aff-a471-8810f14903ff",
   "metadata": {},
   "outputs": [
    {
     "data": {
      "text/plain": [
       "Index(['isic_id', 'target', 'patient_id', 'age_approx', 'sex',\n",
       "       'anatom_site_general', 'clin_size_long_diam_mm', 'image_type',\n",
       "       'tbp_tile_type', 'tbp_lv_A', 'tbp_lv_Aext', 'tbp_lv_B', 'tbp_lv_Bext',\n",
       "       'tbp_lv_C', 'tbp_lv_Cext', 'tbp_lv_H', 'tbp_lv_Hext', 'tbp_lv_L',\n",
       "       'tbp_lv_Lext', 'tbp_lv_areaMM2', 'tbp_lv_area_perim_ratio',\n",
       "       'tbp_lv_color_std_mean', 'tbp_lv_deltaA', 'tbp_lv_deltaB',\n",
       "       'tbp_lv_deltaL', 'tbp_lv_deltaLB', 'tbp_lv_deltaLBnorm',\n",
       "       'tbp_lv_eccentricity', 'tbp_lv_location', 'tbp_lv_location_simple',\n",
       "       'tbp_lv_minorAxisMM', 'tbp_lv_nevi_confidence', 'tbp_lv_norm_border',\n",
       "       'tbp_lv_norm_color', 'tbp_lv_perimeterMM',\n",
       "       'tbp_lv_radial_color_std_max', 'tbp_lv_stdL', 'tbp_lv_stdLExt',\n",
       "       'tbp_lv_symm_2axis', 'tbp_lv_symm_2axis_angle', 'tbp_lv_x', 'tbp_lv_y',\n",
       "       'tbp_lv_z', 'attribution', 'copyright_license', 'lesion_id',\n",
       "       'iddx_full', 'iddx_1', 'iddx_2', 'iddx_3', 'iddx_4', 'iddx_5',\n",
       "       'mel_mitotic_index', 'mel_thick_mm', 'tbp_lv_dnn_lesion_confidence'],\n",
       "      dtype='object')"
      ]
     },
     "execution_count": 4,
     "metadata": {},
     "output_type": "execute_result"
    }
   ],
   "source": [
    "csv_data.columns"
   ]
  },
  {
   "cell_type": "code",
   "execution_count": 5,
   "id": "64ad8abe-942c-4db7-873e-17071f519d78",
   "metadata": {},
   "outputs": [],
   "source": [
    "def getCropImgs(img, needRotations=False):\n",
    "    # img = img.convert('L')\n",
    "    z = np.asarray(img, dtype=np.int8)\n",
    "    c = []\n",
    "    for i in range(3):\n",
    "        for j in range(4):\n",
    "            crop = z[512 * i:512 * (i + 1), 512 * j:512 * (j + 1), :]\n",
    "\n",
    "            c.append(crop)\n",
    "            if needRotations:\n",
    "                c.append(np.rot90(np.rot90(crop)))\n",
    "\n",
    "    # os.system('cls')\n",
    "    # print(\"Crop imgs\", c[2].shape)\n",
    "\n",
    "    return c"
   ]
  },
  {
   "cell_type": "code",
   "execution_count": 6,
   "id": "97d3607a-64a3-4dd1-bcdd-97b1912434a6",
   "metadata": {},
   "outputs": [],
   "source": [
    "data_new = csv_data[['isic_id', 'target']]"
   ]
  },
  {
   "cell_type": "code",
   "execution_count": 7,
   "id": "b97e4889-4973-4986-b8b1-03c0df39e6eb",
   "metadata": {},
   "outputs": [
    {
     "data": {
      "text/plain": [
       "Index(['isic_id', 'target'], dtype='object')"
      ]
     },
     "execution_count": 7,
     "metadata": {},
     "output_type": "execute_result"
    }
   ],
   "source": [
    "data_new.columns\n"
   ]
  },
  {
   "cell_type": "code",
   "execution_count": 8,
   "id": "0ce2aed5-f0a7-42f8-ae73-9a31bfa3c6b8",
   "metadata": {},
   "outputs": [],
   "source": [
    "x_train, x_test, y_train, y_test = train_test_split(csv_data, csv_data['target'], test_size=0.33, random_state=4,\n",
    "                                                    stratify=csv_data['target'])"
   ]
  },
  {
   "cell_type": "code",
   "execution_count": 9,
   "id": "6620df44-e717-4fee-bf88-ee9fc5b9114e",
   "metadata": {},
   "outputs": [
    {
     "data": {
      "text/plain": [
       "Index(['isic_id', 'target', 'patient_id', 'age_approx', 'sex',\n",
       "       'anatom_site_general', 'clin_size_long_diam_mm', 'image_type',\n",
       "       'tbp_tile_type', 'tbp_lv_A', 'tbp_lv_Aext', 'tbp_lv_B', 'tbp_lv_Bext',\n",
       "       'tbp_lv_C', 'tbp_lv_Cext', 'tbp_lv_H', 'tbp_lv_Hext', 'tbp_lv_L',\n",
       "       'tbp_lv_Lext', 'tbp_lv_areaMM2', 'tbp_lv_area_perim_ratio',\n",
       "       'tbp_lv_color_std_mean', 'tbp_lv_deltaA', 'tbp_lv_deltaB',\n",
       "       'tbp_lv_deltaL', 'tbp_lv_deltaLB', 'tbp_lv_deltaLBnorm',\n",
       "       'tbp_lv_eccentricity', 'tbp_lv_location', 'tbp_lv_location_simple',\n",
       "       'tbp_lv_minorAxisMM', 'tbp_lv_nevi_confidence', 'tbp_lv_norm_border',\n",
       "       'tbp_lv_norm_color', 'tbp_lv_perimeterMM',\n",
       "       'tbp_lv_radial_color_std_max', 'tbp_lv_stdL', 'tbp_lv_stdLExt',\n",
       "       'tbp_lv_symm_2axis', 'tbp_lv_symm_2axis_angle', 'tbp_lv_x', 'tbp_lv_y',\n",
       "       'tbp_lv_z', 'attribution', 'copyright_license', 'lesion_id',\n",
       "       'iddx_full', 'iddx_1', 'iddx_2', 'iddx_3', 'iddx_4', 'iddx_5',\n",
       "       'mel_mitotic_index', 'mel_thick_mm', 'tbp_lv_dnn_lesion_confidence'],\n",
       "      dtype='object')"
      ]
     },
     "execution_count": 9,
     "metadata": {},
     "output_type": "execute_result"
    }
   ],
   "source": [
    "x_train.columns"
   ]
  },
  {
   "cell_type": "code",
   "execution_count": 10,
   "id": "24336345-952c-4fa5-9dd6-ab88c6c3092c",
   "metadata": {},
   "outputs": [
    {
     "name": "stdout",
     "output_type": "stream",
     "text": [
      "14778995\n",
      "7279250\n",
      "268709\n",
      "132350\n"
     ]
    }
   ],
   "source": [
    "print(x_train.size)\n",
    "print(x_test.size)\n",
    "print(y_train.size)\n",
    "print(y_test.size)"
   ]
  },
  {
   "cell_type": "code",
   "execution_count": 11,
   "id": "e86e8111-76f3-4b89-b702-b11bbb57d871",
   "metadata": {},
   "outputs": [],
   "source": [
    "def defModel(input_shape):\n",
    "    X_input = Input(input_shape)\n",
    "\n",
    "    # The max pooling layers use a stride equal to the pooling size\n",
    "\n",
    "    X = Conv2D(16, (3, 3), strides=(1, 1))(X_input)  # 'Conv.Layer(1)'\n",
    "\n",
    "    X = Activation('relu')(X)\n",
    "\n",
    "    X = MaxPooling2D((3, 3), strides=3)(X)  # MP Layer(2)\n",
    "\n",
    "    X = Conv2D(32, (3, 3), strides=(1, 1))(X)  # Conv.Layer(3)\n",
    "\n",
    "    X = Activation('relu')(X)\n",
    "\n",
    "    X = MaxPooling2D((2, 2), strides=2)(X)  # MP Layer(4)\n",
    "\n",
    "    X = Conv2D(64, (2, 2), strides=(1, 1))(X)  # Conv.Layer(5)\n",
    "\n",
    "    X = Activation('relu')(X)\n",
    "\n",
    "    X = ZeroPadding2D(padding=(2, 2))(X)  # Output of convlayer(5) will be 82x82, we want 84x84\n",
    "\n",
    "    X = MaxPooling2D((2, 2), strides=2)(X)  # MP Layer(6)\n",
    "\n",
    "    X = Conv2D(64, (2, 2), strides=(1, 1))(X)  # Conv.Layer(7)\n",
    "\n",
    "    X = Activation('relu')(X)\n",
    "\n",
    "    X = ZeroPadding2D(padding=(2, 2))(X)  # Output of convlayer(7) will be 40x40, we want 42x42\n",
    "\n",
    "    X = MaxPooling2D((3, 3), strides=3)(X)  # MP Layer(8)\n",
    "\n",
    "    X = Conv2D(32, (3, 3), strides=(1, 1))(X)  # Con.Layer(9)\n",
    "\n",
    "    X = Activation('relu')(X)\n",
    "\n",
    "    X = Flatten()(X)  # Convert it to FC\n",
    "\n",
    "    X = Dense(256, activation='relu')(X)  # F.C. layer(10)\n",
    "\n",
    "    X = Dense(128, activation='relu')(X)  # F.C. layer(11)\n",
    "\n",
    "    X = Dense(4, activation='softmax')(X)\n",
    "\n",
    "    # ------------------------------------------------------------------------------\n",
    "\n",
    "    model = Model(inputs=X_input, outputs=X, name='Model')\n",
    "\n",
    "    return model"
   ]
  },
  {
   "cell_type": "code",
   "execution_count": 12,
   "id": "2e5a7632-3e77-4cdc-8b4b-a340e21bd209",
   "metadata": {},
   "outputs": [],
   "source": [
    "def defModel(input_shape):\n",
    "    X_input = Input(input_shape)\n",
    "\n",
    "    # The max pooling layers use a stride equal to the pooling size\n",
    "\n",
    "    X = Conv2D(16, (2, 2), strides=(1, 1))(X_input)  # 'Conv.Layer(1)'\n",
    "\n",
    "    X = Activation('relu')(X)\n",
    "\n",
    "    X = MaxPooling2D((3, 3), strides=3)(X)  # MP Layer(2)\n",
    "\n",
    "    X = Conv2D(32, (3, 3), strides=(1, 1))(X)  # Conv.Layer(3)\n",
    "\n",
    "    X = Activation('relu')(X)\n",
    "\n",
    "    X = MaxPooling2D((2, 2), strides=2)(X)  # MP Layer(4)\n",
    "\n",
    "    X = Conv2D(64, (2, 2), strides=(1, 1))(X)  # Conv.Layer(5)\n",
    "\n",
    "    X = Activation('relu')(X)\n",
    "\n",
    "    X = ZeroPadding2D(padding=(2, 2))(X)  # Output of convlayer(5) will be 82x82, we want 84x84\n",
    "\n",
    "    X = MaxPooling2D((2, 2), strides=2)(X)  # MP Layer(6)\n",
    "\n",
    "    X = Conv2D(64, (2, 2), strides=(1, 1))(X)  # Conv.Layer(7)\n",
    "\n",
    "    X = Activation('relu')(X)\n",
    "\n",
    "    X = ZeroPadding2D(padding=(2, 2))(X)  # Output of convlayer(7) will be 40x40, we want 42x42\n",
    "\n",
    "    X = MaxPooling2D((3, 3), strides=3)(X)  # MP Layer(8)\n",
    "\n",
    "    X = Conv2D(32, (3, 3), strides=(1, 1))(X)  # Con.Layer(9)\n",
    "\n",
    "    X = Activation('relu')(X)\n",
    "\n",
    "    X = Flatten()(X)  # Convert it to FC\n",
    "\n",
    "    X = Dense(256, activation='relu')(X)  # F.C. layer(10)\n",
    "\n",
    "    X = Dense(128, activation='relu')(X)  # F.C. layer(11)\n",
    "\n",
    "    X = Dense(4, activation='softmax')(X)\n",
    "\n",
    "    # ------------------------------------------------------------------------------\n",
    "\n",
    "    model = Model(inputs=X_input, outputs=X, name='Model')\n",
    "\n",
    "    return model\n"
   ]
  },
  {
   "cell_type": "code",
   "execution_count": 13,
   "id": "76f7ebe0-c08a-42d3-925d-2c819099dde4",
   "metadata": {},
   "outputs": [],
   "source": [
    "# Get the softmax from folder name\n",
    "def getAsSoftmax(fname):\n",
    "    if (fname == 'b'):\n",
    "        return [1, 0]\n",
    "    else:\n",
    "        return [0, 1]\n"
   ]
  },
  {
   "cell_type": "code",
   "execution_count": 14,
   "id": "2f7a792f-527c-45a3-b7ac-90655aab25c6",
   "metadata": {},
   "outputs": [],
   "source": [
    "def mean_pred(y_true, y_pred):\n",
    "    return K.mean(y_pred)"
   ]
  },
  {
   "cell_type": "code",
   "execution_count": 15,
   "id": "4554996c-805b-40d6-a8c3-ddbecd91429f",
   "metadata": {},
   "outputs": [
    {
     "name": "stderr",
     "output_type": "stream",
     "text": [
      "/var/folders/c9/x7lk2dss3bv89ttknvtmys7w0000gn/T/ipykernel_2711/3893093411.py:1: SettingWithCopyWarning: \n",
      "A value is trying to be set on a copy of a slice from a DataFrame.\n",
      "Try using .loc[row_indexer,col_indexer] = value instead\n",
      "\n",
      "See the caveats in the documentation: https://pandas.pydata.org/pandas-docs/stable/user_guide/indexing.html#returning-a-view-versus-a-copy\n",
      "  data_new['img'] = data_new.apply(lambda _: '', axis=1)\n",
      "/var/folders/c9/x7lk2dss3bv89ttknvtmys7w0000gn/T/ipykernel_2711/3893093411.py:2: SettingWithCopyWarning: \n",
      "A value is trying to be set on a copy of a slice from a DataFrame.\n",
      "Try using .loc[row_indexer,col_indexer] = value instead\n",
      "\n",
      "See the caveats in the documentation: https://pandas.pydata.org/pandas-docs/stable/user_guide/indexing.html#returning-a-view-versus-a-copy\n",
      "  data_new['imgcrop'] = data_new.apply(lambda _: '', axis=1)\n"
     ]
    }
   ],
   "source": [
    "data_new['img'] = data_new.apply(lambda _: '', axis=1)\n",
    "data_new['imgcrop'] = data_new.apply(lambda _: '', axis=1)"
   ]
  },
  {
   "cell_type": "code",
   "execution_count": 16,
   "id": "386181af-f647-4736-b1f9-61b98bb0ff97",
   "metadata": {},
   "outputs": [],
   "source": [
    "data_new.columns\n",
    "image_list = []\n"
   ]
  },
  {
   "cell_type": "code",
   "execution_count": 17,
   "id": "87f19dd8-1b18-466c-a407-5c8d134bd2fb",
   "metadata": {},
   "outputs": [],
   "source": [
    "# def addImageDataToPd(basePath, data_new):\n",
    "#     print(\"Hello---\")\n",
    "#     image_data = os.listdir(basePath)\n",
    "#     print(\"No# of images in data: \" , len(image_data))\n",
    "#     image_files = [f for f in os.listdir(basePath) if f.endswith('.jpg') or f.endswith('.png')]\n",
    "#     # Iterate through the image files\n",
    "#     for image_file in image_files:\n",
    "#        # Open the image file\n",
    "#        img = Image.open(os.path.join(basePath, image_file))\n",
    "#        # Convert the image to an array\n",
    "#        img_array = np.array(img)\n",
    "#        # Append the image array to the list\n",
    "#        image_list.append(img_array)\n",
    "    \n",
    "    \n"
   ]
  },
  {
   "cell_type": "code",
   "execution_count": 18,
   "id": "4a012ff9-a088-4127-87b8-684a60cd9f1d",
   "metadata": {},
   "outputs": [],
   "source": [
    "# addImageDataToPd(TEST_IMG_DIR, data_new)"
   ]
  },
  {
   "cell_type": "code",
   "execution_count": 19,
   "id": "3189c1a3-8316-4351-9264-d96736f139b5",
   "metadata": {},
   "outputs": [],
   "source": [
    "# df = pd.DataFrame(image_list)\n",
    "# df.head()"
   ]
  },
  {
   "cell_type": "code",
   "execution_count": 20,
   "id": "788cf296-efcf-4536-8961-0fb29bf3dd38",
   "metadata": {},
   "outputs": [
    {
     "data": {
      "image/png": "[encoded data removed]",
      "text/plain": [
       "<Figure size 2000x2000 with 16 Axes>"
      ]
     },
     "metadata": {},
     "output_type": "display_data"
    }
   ],
   "source": [
    "import matplotlib.pyplot as plt\n",
    "\n",
    "# Get the number of rows in the dataframe\n",
    "# num_rows = df.shape[0]\n",
    "\n",
    "# Set the number of rows and columns for the grid\n",
    "rows = 4\n",
    "cols = 4\n",
    "\n",
    "# Create a subplot grid with the specified number of rows and columns\n",
    "fig, ax = plt.subplots(rows, cols, figsize=(20,20))\n",
    "\n",
    "# Flatten the subplot grid to a 1-D array\n",
    "ax = ax.ravel()\n",
    "\n",
    "# # Iterate through the rows of the dataframe\n",
    "# for i in range(num_rows):\n",
    "#     try:\n",
    "#         # Get the image array from the dataframe\n",
    "#         img_array = df.iloc[i, 0]\n",
    "#         # Display the image in the current subplot\n",
    "#         ax[i].imshow(img_array)\n",
    "#         ax[i].set_title(f\"Image {i}\")\n",
    "#         ax[i].axis(\"off\")\n",
    "#     except:\n",
    "#         pass\n",
    "# # Show the plot\n",
    "# plt.show()"
   ]
  },
  {
   "cell_type": "code",
   "execution_count": 21,
   "id": "56f0b398-4ef3-413c-a057-478a66cb7e05",
   "metadata": {},
   "outputs": [],
   "source": [
    "columns = ['isic_id', 'target', 'img', 'img1']\n",
    "final_data = pd.DataFrame(columns=columns)"
   ]
  },
  {
   "cell_type": "code",
   "execution_count": 22,
   "id": "4dc09570-39d8-4b91-822e-dd54af9bf76b",
   "metadata": {},
   "outputs": [],
   "source": [
    "def printImage(data,col_name):\n",
    "    rows = 4\n",
    "    cols = 4\n",
    "    fig, ax = plt.subplots(rows, cols, figsize=(20,20))\n",
    "    ax = ax.ravel()\n",
    "    for i in range(5):\n",
    "       try:\n",
    "           # Get the image array from the dataframe\n",
    "           img_array = data[col_name].iloc[i, 0]\n",
    "           # Display the image in the current subplot\n",
    "           ax[i].imshow(img_array)\n",
    "           ax[i].set_title(f\"Image {i}\")\n",
    "           ax[i].axis(\"off\")\n",
    "       except:\n",
    "           pass\n",
    "    plt.show()\n"
   ]
  },
  {
   "cell_type": "code",
   "execution_count": 23,
   "id": "cc88ced6-1e94-436a-b04b-0cb7a9457d2f",
   "metadata": {},
   "outputs": [],
   "source": [
    "from matplotlib import pyplot as plt\n",
    "\n",
    "def printSingleImage(img_array):\n",
    "   plt.imshow(tempImg, interpolation='nearest')\n",
    "   plt.show()"
   ]
  },
  {
   "cell_type": "code",
   "execution_count": 24,
   "id": "5f2f083b-da63-4566-af15-f5ad4ed85372",
   "metadata": {},
   "outputs": [
    {
     "data": {
      "text/plain": [
       "Index(['isic_id', 'target', 'img', 'img1'], dtype='object')"
      ]
     },
     "execution_count": 24,
     "metadata": {},
     "output_type": "execute_result"
    }
   ],
   "source": [
    "final_data.columns"
   ]
  },
  {
   "cell_type": "code",
   "execution_count": 25,
   "id": "7579b7b0-36e6-4e41-91a2-7b55cbc511f4",
   "metadata": {},
   "outputs": [
    {
     "name": "stdout",
     "output_type": "stream",
     "text": [
      "14778995\n",
      "7279250\n",
      "268709\n",
      "132350\n",
      "1604236\n"
     ]
    }
   ],
   "source": [
    "print(x_train.size)\n",
    "print(x_test.size)\n",
    "print(y_train.size)\n",
    "print(y_test.size)\n",
    "print(data_new.size)"
   ]
  },
  {
   "cell_type": "code",
   "execution_count": 26,
   "id": "45641fec-16de-4a62-9a20-6307c1e0b954",
   "metadata": {},
   "outputs": [],
   "source": [
    "def getImageFromPath(basePath, image_file):\n",
    "    # print(basePath+''+image_file)\n",
    "    image_data = os.listdir(basePath)\n",
    "    img = Image.open(os.path.join(basePath, image_file))\n",
    "    #print(np.array(img))\n",
    "    return img"
   ]
  },
  {
   "cell_type": "code",
   "execution_count": 27,
   "id": "9bcf32d7-290b-479d-b012-9984e173f84b",
   "metadata": {},
   "outputs": [
    {
     "data": {
      "image/jpeg": "[encoded data removed]",
      "image/png": "[encoded data removed]",
      "text/plain": [
       "<PIL.JpegImagePlugin.JpegImageFile image mode=RGB size=139x139>"
      ]
     },
     "execution_count": 27,
     "metadata": {},
     "output_type": "execute_result"
    }
   ],
   "source": [
    "getImageFromPath(TEST_IMG_DIR, 'ISIC_0015670.jpg')"
   ]
  },
  {
   "cell_type": "code",
   "execution_count": 28,
   "id": "2dbb6f04-24a2-47a0-b4b4-b00615032eec",
   "metadata": {},
   "outputs": [
    {
     "data": {
      "text/html": [
       "<div>\n",
       "<style scoped>\n",
       "    .dataframe tbody tr th:only-of-type {\n",
       "        vertical-align: middle;\n",
       "    }\n",
       "\n",
       "    .dataframe tbody tr th {\n",
       "        vertical-align: top;\n",
       "    }\n",
       "\n",
       "    .dataframe thead th {\n",
       "        text-align: right;\n",
       "    }\n",
       "</style>\n",
       "<table border=\"1\" class=\"dataframe\">\n",
       "  <thead>\n",
       "    <tr style=\"text-align: right;\">\n",
       "      <th></th>\n",
       "      <th>isic_id</th>\n",
       "      <th>target</th>\n",
       "      <th>img</th>\n",
       "      <th>imgcrop</th>\n",
       "    </tr>\n",
       "  </thead>\n",
       "  <tbody>\n",
       "    <tr>\n",
       "      <th>0</th>\n",
       "      <td>ISIC_0015670</td>\n",
       "      <td>0</td>\n",
       "      <td></td>\n",
       "      <td></td>\n",
       "    </tr>\n",
       "    <tr>\n",
       "      <th>1</th>\n",
       "      <td>ISIC_0015845</td>\n",
       "      <td>0</td>\n",
       "      <td></td>\n",
       "      <td></td>\n",
       "    </tr>\n",
       "    <tr>\n",
       "      <th>2</th>\n",
       "      <td>ISIC_0015864</td>\n",
       "      <td>0</td>\n",
       "      <td></td>\n",
       "      <td></td>\n",
       "    </tr>\n",
       "    <tr>\n",
       "      <th>3</th>\n",
       "      <td>ISIC_0015902</td>\n",
       "      <td>0</td>\n",
       "      <td></td>\n",
       "      <td></td>\n",
       "    </tr>\n",
       "    <tr>\n",
       "      <th>4</th>\n",
       "      <td>ISIC_0024200</td>\n",
       "      <td>0</td>\n",
       "      <td></td>\n",
       "      <td></td>\n",
       "    </tr>\n",
       "  </tbody>\n",
       "</table>\n",
       "</div>"
      ],
      "text/plain": [
       "        isic_id  target img imgcrop\n",
       "0  ISIC_0015670       0            \n",
       "1  ISIC_0015845       0            \n",
       "2  ISIC_0015864       0            \n",
       "3  ISIC_0015902       0            \n",
       "4  ISIC_0024200       0            "
      ]
     },
     "execution_count": 28,
     "metadata": {},
     "output_type": "execute_result"
    }
   ],
   "source": [
    "data_new.head(5)"
   ]
  },
  {
   "cell_type": "code",
   "execution_count": 29,
   "id": "7ce7af92-0e0c-4712-8f8b-dc01bd2dc116",
   "metadata": {},
   "outputs": [],
   "source": [
    "def getCropImgsWithArray(basePath, image_file):\n",
    "    # img_array = np.asarray(img, dtype=np.int8)\n",
    "   Original_Image = getImageFromPath(TEST_IMG_DIR,image_path)\n",
    "  \n",
    "   # Rotate Image By 180 Degree \n",
    "   rotated_image1 = Original_Image.rotate(180) \n",
    "  \n",
    "   # This is Alternative Syntax To Rotate  \n",
    "   # The Image \n",
    "   # rotated_image2 = Original_Image.transpose(Image.ROTATE_90) \n",
    "  \n",
    "   # This Will Rotate the Image By 60 Degree \n",
    "   # rotated_image3 = Original_Image.rotate(60) \n",
    "   return rotated_image1;"
   ]
  },
  {
   "cell_type": "code",
   "execution_count": 30,
   "id": "a0336c77-6e1b-49d3-ada5-2a9f6db35c21",
   "metadata": {},
   "outputs": [
    {
     "name": "stdout",
     "output_type": "stream",
     "text": [
      "401059\n"
     ]
    }
   ],
   "source": [
    "print(len(data_new))"
   ]
  },
  {
   "cell_type": "code",
   "execution_count": 32,
   "id": "d808a411-e538-4e1d-a59e-b151fa26106d",
   "metadata": {},
   "outputs": [],
   "source": [
    "data_new1 = data_new.head(1000)"
   ]
  },
  {
   "cell_type": "code",
   "execution_count": 33,
   "id": "9cbf2514-6aa2-4004-88cf-270004f056ec",
   "metadata": {},
   "outputs": [
    {
     "name": "stdout",
     "output_type": "stream",
     "text": [
      "1000\n"
     ]
    }
   ],
   "source": [
    "print(len(data_new1))"
   ]
  },
  {
   "cell_type": "code",
   "execution_count": 34,
   "id": "910d9811-3b76-4d1e-a7d9-db8d664170f9",
   "metadata": {},
   "outputs": [
    {
     "name": "stderr",
     "output_type": "stream",
     "text": [
      "/var/folders/c9/x7lk2dss3bv89ttknvtmys7w0000gn/T/ipykernel_2711/3105417737.py:6: SettingWithCopyWarning: \n",
      "A value is trying to be set on a copy of a slice from a DataFrame\n",
      "\n",
      "See the caveats in the documentation: https://pandas.pydata.org/pandas-docs/stable/user_guide/indexing.html#returning-a-view-versus-a-copy\n",
      "  data_new1.iloc[i]['img'] = np.array(getImageFromPath(TEST_IMG_DIR,image_path))\n"
     ]
    },
    {
     "name": "stdout",
     "output_type": "stream",
     "text": [
      "0 100 200 300 400 500 600 700 800 900 "
     ]
    }
   ],
   "source": [
    "counter = 0\n",
    "\n",
    "for i in range(0, len(data_new1)):\n",
    "# for i in range(1):\n",
    "    image_path = data_new1.iloc[i]['isic_id']+'.jpg'\n",
    "    data_new1.iloc[i]['img'] = np.array(getImageFromPath(TEST_IMG_DIR,image_path))\n",
    "    # printSingleImage(data_new.iloc[i]['img'])\n",
    "    # data_new.iloc[i]['imgcrop'] = np.array(getCropImgsWithArray(TEST_IMG_DIR,image_path))\n",
    "    # printSingleImage(data_new.iloc[i]['imgcrop'])\n",
    "    if(counter%1000 ==0):\n",
    "       print(counter, end =\" \")\n",
    "    counter += 1"
   ]
  },
  {
   "cell_type": "code",
   "execution_count": 35,
   "id": "b92a491e-d0e6-4d90-8fee-29f309a36f9d",
   "metadata": {},
   "outputs": [],
   "source": [
    "x1_train, x1_test, y1_train, y1_test = train_test_split(data_new1, data_new1['target'], test_size=0.33, random_state=4,\n",
    "                                                    stratify=data_new1['target'])"
   ]
  },
  {
   "cell_type": "code",
   "execution_count": 47,
   "id": "15c38052-5966-4da3-8d1c-07c39dd05b4f",
   "metadata": {},
   "outputs": [],
   "source": [
    "def train(batch_size, epochs):\n",
    "    # sess = tf.Session()\n",
    "    # keras.backend.set_session(sess)\n",
    "\n",
    "    model = defModel(x1_train.shape[1:])\n",
    "\n",
    "    model.compile('adam', 'categorical_crossentropy', metrics=['accuracy'])\n",
    "    while True:\n",
    "        try:\n",
    "            model = load_model(modelSavePath)\n",
    "        except:\n",
    "            print(\"Training a new model\")\n",
    "\n",
    "        model.fit(x1_train, y1_train, epochs=epochs, batch_size=batch_size) # <>\n",
    "\n",
    "        model.save(modelSavePath)\n",
    "\n",
    "        preds = model.evaluate(x1_test, y1_test, batch_size=1, verbose=1, sample_weight=None)\n",
    "        print(preds)\n",
    "\n",
    "        print()\n",
    "        print(\"Loss = \" + str(preds[0]))\n",
    "        print(\"Test Accuracy = \" + str(preds[1]) + \"\\n\\n\\n\\n\\n\")\n",
    "        ch = input(\"Do you wish to continue training? (y/n) \")\n",
    "        if ch == 'y':\n",
    "            epochs = int(input(\"How many epochs this time? : \"))\n",
    "            continue\n",
    "        else:\n",
    "            break\n",
    "\n",
    "    return model"
   ]
  },
  {
   "cell_type": "code",
   "execution_count": 48,
   "id": "ef74f3b4-107f-482e-8092-03ce734d5a05",
   "metadata": {},
   "outputs": [],
   "source": [
    "def predict(img, showImg=True):\n",
    "    model = load_model(modelSavePath)\n",
    "    # if showImg:\n",
    "    # Image.fromarray(np.array(img, np.float16), 'RGB').show()\n",
    "\n",
    "    x = img\n",
    "    if showImg:\n",
    "        Image.fromarray(np.array(img, np.float16), 'RGB').show()\n",
    "    x = np.expand_dims(x, axis=0)\n",
    "\n",
    "    softMaxPred = model.predict(x)\n",
    "    print(\"prediction from CNN: \" + str(softMaxPred) + \"\\n\")\n",
    "    probs = softmaxToProbs(softMaxPred)\n",
    "\n",
    "    # plot_model(model, to_file='Model.png')\n",
    "    # SVG(model_to_dot(model).create(prog='dot', format='svg'))\n",
    "    maxprob = 0\n",
    "    maxI = 0\n",
    "    for j in range(len(probs)):\n",
    "        # print(str(j) + \" : \" + str(round(probs[j], 4)))\n",
    "        if probs[j] > maxprob:\n",
    "            maxprob = probs[j]\n",
    "            maxI = j\n",
    "    # print(softMaxPred)\n",
    "    print(\"prediction index: \" + str(maxI))\n",
    "    return maxI, probs"
   ]
  },
  {
   "cell_type": "code",
   "execution_count": 49,
   "id": "68b85948-1c58-40db-8faf-16afd1d65fef",
   "metadata": {},
   "outputs": [],
   "source": [
    "def softmaxToProbs(soft):\n",
    "    z_exp = [np.math.exp(i) for i in soft[0]]\n",
    "    sum_z_exp = sum(z_exp)\n",
    "    return [(i / sum_z_exp) * 100 for i in z_exp]"
   ]
  },
  {
   "cell_type": "code",
   "execution_count": 50,
   "id": "bea4a5a5-4429-4289-841b-97e86bd9bf04",
   "metadata": {},
   "outputs": [],
   "source": [
    "x1_train = np.expand_dims(x1_train, axis=-1)\n",
    "#x1_train = x1_train.reshape(-1, 28, 28, 1)\n"
   ]
  },
  {
   "cell_type": "code",
   "execution_count": 51,
   "id": "bb819cb7-0c59-48c6-b495-66dbbb895031",
   "metadata": {},
   "outputs": [
    {
     "ename": "ValueError",
     "evalue": "Exception encountered when calling layer \"conv2d_3\" (type Conv2D).\n\nNegative dimension size caused by subtracting 2 from 1 for '{{node conv2d_3/Conv2D/Conv2D}} = Conv2D[T=DT_FLOAT, data_format=\"NHWC\", dilations=[1, 1, 1, 1], explicit_paddings=[], padding=\"VALID\", strides=[1, 1, 1, 1], use_cudnn_on_gpu=true](conv2d_3/Conv2D/Reshape, conv2d_3/Conv2D/Conv2D/ReadVariableOp)' with input shapes: [?,1,1,1], [2,2,1,16].\n\nCall arguments received by layer \"conv2d_3\" (type Conv2D):\n  • inputs=tf.Tensor(shape=(None, 4, 1, 1, 1), dtype=float32)",
     "output_type": "error",
     "traceback": [
      "\u001b[0;31m---------------------------------------------------------------------------\u001b[0m",
      "\u001b[0;31mValueError\u001b[0m                                Traceback (most recent call last)",
      "Cell \u001b[0;32mIn[51], line 1\u001b[0m\n\u001b[0;32m----> 1\u001b[0m model \u001b[38;5;241m=\u001b[39m \u001b[43mtrain\u001b[49m\u001b[43m(\u001b[49m\u001b[43mbatch_size\u001b[49m\u001b[38;5;241;43m=\u001b[39;49m\u001b[38;5;241;43m5\u001b[39;49m\u001b[43m,\u001b[49m\u001b[43m \u001b[49m\u001b[43mepochs\u001b[49m\u001b[38;5;241;43m=\u001b[39;49m\u001b[38;5;241;43m2\u001b[39;49m\u001b[43m)\u001b[49m\n",
      "Cell \u001b[0;32mIn[47], line 5\u001b[0m, in \u001b[0;36mtrain\u001b[0;34m(batch_size, epochs)\u001b[0m\n\u001b[1;32m      1\u001b[0m \u001b[38;5;28;01mdef\u001b[39;00m \u001b[38;5;21mtrain\u001b[39m(batch_size, epochs):\n\u001b[1;32m      2\u001b[0m     \u001b[38;5;66;03m# sess = tf.Session()\u001b[39;00m\n\u001b[1;32m      3\u001b[0m     \u001b[38;5;66;03m# keras.backend.set_session(sess)\u001b[39;00m\n\u001b[0;32m----> 5\u001b[0m     model \u001b[38;5;241m=\u001b[39m \u001b[43mdefModel\u001b[49m\u001b[43m(\u001b[49m\u001b[43mx1_train\u001b[49m\u001b[38;5;241;43m.\u001b[39;49m\u001b[43mshape\u001b[49m\u001b[43m[\u001b[49m\u001b[38;5;241;43m1\u001b[39;49m\u001b[43m:\u001b[49m\u001b[43m]\u001b[49m\u001b[43m)\u001b[49m\n\u001b[1;32m      7\u001b[0m     model\u001b[38;5;241m.\u001b[39mcompile(\u001b[38;5;124m'\u001b[39m\u001b[38;5;124madam\u001b[39m\u001b[38;5;124m'\u001b[39m, \u001b[38;5;124m'\u001b[39m\u001b[38;5;124mcategorical_crossentropy\u001b[39m\u001b[38;5;124m'\u001b[39m, metrics\u001b[38;5;241m=\u001b[39m[\u001b[38;5;124m'\u001b[39m\u001b[38;5;124maccuracy\u001b[39m\u001b[38;5;124m'\u001b[39m])\n\u001b[1;32m      8\u001b[0m     \u001b[38;5;28;01mwhile\u001b[39;00m \u001b[38;5;28;01mTrue\u001b[39;00m:\n",
      "Cell \u001b[0;32mIn[12], line 6\u001b[0m, in \u001b[0;36mdefModel\u001b[0;34m(input_shape)\u001b[0m\n\u001b[1;32m      2\u001b[0m X_input \u001b[38;5;241m=\u001b[39m Input(input_shape)\n\u001b[1;32m      4\u001b[0m \u001b[38;5;66;03m# The max pooling layers use a stride equal to the pooling size\u001b[39;00m\n\u001b[0;32m----> 6\u001b[0m X \u001b[38;5;241m=\u001b[39m \u001b[43mConv2D\u001b[49m\u001b[43m(\u001b[49m\u001b[38;5;241;43m16\u001b[39;49m\u001b[43m,\u001b[49m\u001b[43m \u001b[49m\u001b[43m(\u001b[49m\u001b[38;5;241;43m2\u001b[39;49m\u001b[43m,\u001b[49m\u001b[43m \u001b[49m\u001b[38;5;241;43m2\u001b[39;49m\u001b[43m)\u001b[49m\u001b[43m,\u001b[49m\u001b[43m \u001b[49m\u001b[43mstrides\u001b[49m\u001b[38;5;241;43m=\u001b[39;49m\u001b[43m(\u001b[49m\u001b[38;5;241;43m1\u001b[39;49m\u001b[43m,\u001b[49m\u001b[43m \u001b[49m\u001b[38;5;241;43m1\u001b[39;49m\u001b[43m)\u001b[49m\u001b[43m)\u001b[49m\u001b[43m(\u001b[49m\u001b[43mX_input\u001b[49m\u001b[43m)\u001b[49m  \u001b[38;5;66;03m# 'Conv.Layer(1)'\u001b[39;00m\n\u001b[1;32m      8\u001b[0m X \u001b[38;5;241m=\u001b[39m Activation(\u001b[38;5;124m'\u001b[39m\u001b[38;5;124mrelu\u001b[39m\u001b[38;5;124m'\u001b[39m)(X)\n\u001b[1;32m     10\u001b[0m X \u001b[38;5;241m=\u001b[39m MaxPooling2D((\u001b[38;5;241m3\u001b[39m, \u001b[38;5;241m3\u001b[39m), strides\u001b[38;5;241m=\u001b[39m\u001b[38;5;241m3\u001b[39m)(X)  \u001b[38;5;66;03m# MP Layer(2)\u001b[39;00m\n",
      "File \u001b[0;32m/opt/anaconda3/envs/Dev/lib/python3.8/site-packages/keras/utils/traceback_utils.py:70\u001b[0m, in \u001b[0;36mfilter_traceback.<locals>.error_handler\u001b[0;34m(*args, **kwargs)\u001b[0m\n\u001b[1;32m     67\u001b[0m     filtered_tb \u001b[38;5;241m=\u001b[39m _process_traceback_frames(e\u001b[38;5;241m.\u001b[39m__traceback__)\n\u001b[1;32m     68\u001b[0m     \u001b[38;5;66;03m# To get the full stack trace, call:\u001b[39;00m\n\u001b[1;32m     69\u001b[0m     \u001b[38;5;66;03m# `tf.debugging.disable_traceback_filtering()`\u001b[39;00m\n\u001b[0;32m---> 70\u001b[0m     \u001b[38;5;28;01mraise\u001b[39;00m e\u001b[38;5;241m.\u001b[39mwith_traceback(filtered_tb) \u001b[38;5;28;01mfrom\u001b[39;00m \u001b[38;5;28;01mNone\u001b[39;00m\n\u001b[1;32m     71\u001b[0m \u001b[38;5;28;01mfinally\u001b[39;00m:\n\u001b[1;32m     72\u001b[0m     \u001b[38;5;28;01mdel\u001b[39;00m filtered_tb\n",
      "File \u001b[0;32m/opt/anaconda3/envs/Dev/lib/python3.8/site-packages/tensorflow/python/framework/ops.py:1973\u001b[0m, in \u001b[0;36m_create_c_op\u001b[0;34m(graph, node_def, inputs, control_inputs, op_def, extract_traceback)\u001b[0m\n\u001b[1;32m   1970\u001b[0m   c_op \u001b[38;5;241m=\u001b[39m pywrap_tf_session\u001b[38;5;241m.\u001b[39mTF_FinishOperation(op_desc)\n\u001b[1;32m   1971\u001b[0m \u001b[38;5;28;01mexcept\u001b[39;00m errors\u001b[38;5;241m.\u001b[39mInvalidArgumentError \u001b[38;5;28;01mas\u001b[39;00m e:\n\u001b[1;32m   1972\u001b[0m   \u001b[38;5;66;03m# Convert to ValueError for backwards compatibility.\u001b[39;00m\n\u001b[0;32m-> 1973\u001b[0m   \u001b[38;5;28;01mraise\u001b[39;00m \u001b[38;5;167;01mValueError\u001b[39;00m(e\u001b[38;5;241m.\u001b[39mmessage)\n\u001b[1;32m   1975\u001b[0m \u001b[38;5;66;03m# Record the current Python stack trace as the creating stacktrace of this\u001b[39;00m\n\u001b[1;32m   1976\u001b[0m \u001b[38;5;66;03m# TF_Operation.\u001b[39;00m\n\u001b[1;32m   1977\u001b[0m \u001b[38;5;28;01mif\u001b[39;00m extract_traceback:\n",
      "\u001b[0;31mValueError\u001b[0m: Exception encountered when calling layer \"conv2d_3\" (type Conv2D).\n\nNegative dimension size caused by subtracting 2 from 1 for '{{node conv2d_3/Conv2D/Conv2D}} = Conv2D[T=DT_FLOAT, data_format=\"NHWC\", dilations=[1, 1, 1, 1], explicit_paddings=[], padding=\"VALID\", strides=[1, 1, 1, 1], use_cudnn_on_gpu=true](conv2d_3/Conv2D/Reshape, conv2d_3/Conv2D/Conv2D/ReadVariableOp)' with input shapes: [?,1,1,1], [2,2,1,16].\n\nCall arguments received by layer \"conv2d_3\" (type Conv2D):\n  • inputs=tf.Tensor(shape=(None, 4, 1, 1, 1), dtype=float32)"
     ]
    }
   ],
   "source": [
    "model = train(batch_size=5, epochs=2)"
   ]
  },
  {
   "cell_type": "code",
   "execution_count": null,
   "id": "31120205-5d5b-4044-949e-a8d548fb471c",
   "metadata": {},
   "outputs": [],
   "source": []
  },
  {
   "cell_type": "code",
   "execution_count": null,
   "id": "dd33912b-4748-4f46-ab86-ba14d2f9a0fb",
   "metadata": {},
   "outputs": [],
   "source": []
  }
 ],
 "metadata": {
  "kernelspec": {
   "display_name": "Python 3 (ipykernel)",
   "language": "python",
   "name": "python3"
  },
  "language_info": {
   "codemirror_mode": {
    "name": "ipython",
    "version": 3
   },
   "file_extension": ".py",
   "mimetype": "text/x-python",
   "name": "python",
   "nbconvert_exporter": "python",
   "pygments_lexer": "ipython3",
   "version": "3.8.18"
  }
 },
 "nbformat": 4,
 "nbformat_minor": 5
}
